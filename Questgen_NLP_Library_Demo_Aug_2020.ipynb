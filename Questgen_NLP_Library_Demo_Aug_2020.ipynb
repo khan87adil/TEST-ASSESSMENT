{
 "cells": [
  {
   "cell_type": "markdown",
   "metadata": {
    "id": "S-Kj1T_yHa_A"
   },
   "source": [
    "# Installations"
   ]
  },
  {
   "cell_type": "code",
   "execution_count": 1,
   "metadata": {
    "_cell_guid": "79c7e3d0-c299-4dcb-8224-4455121ee9b0",
    "_uuid": "d629ff2d2480ee46fbb7e2d37f6b5fab8052498a",
    "id": "YAP21lOv98K4"
   },
   "outputs": [
    {
     "name": "stdout",
     "output_type": "stream",
     "text": [
      "Collecting git+https://github.com/ramsrigouthamg/Questgen.ai\n",
      "  Cloning https://github.com/ramsrigouthamg/Questgen.ai to c:\\users\\91986\\appdata\\local\\temp\\pip-req-build-b9vvtit_\n",
      "Requirement already satisfied: torch==1.9.0 in c:\\anaconda\\lib\\site-packages (from Questgen==1.0.0) (1.9.0)\n",
      "Collecting transformers==3.0.2\n",
      "  Downloading transformers-3.0.2-py3-none-any.whl (769 kB)\n",
      "Collecting pytorch_lightning==0.8.1\n",
      "  Downloading pytorch_lightning-0.8.1-py3-none-any.whl (293 kB)\n",
      "Collecting sense2vec==1.0.3\n",
      "  Downloading sense2vec-1.0.3-py2.py3-none-any.whl (35 kB)\n",
      "Collecting strsim==0.0.3\n",
      "  Downloading strsim-0.0.3-py3-none-any.whl (42 kB)\n",
      "Requirement already satisfied: six==1.15.0 in c:\\anaconda\\lib\\site-packages (from Questgen==1.0.0) (1.15.0)\n",
      "Collecting networkx==2.4.0\n",
      "  Downloading networkx-2.4-py3-none-any.whl (1.6 MB)\n",
      "Requirement already satisfied: numpy in c:\\anaconda\\lib\\site-packages (from Questgen==1.0.0) (1.19.5)\n",
      "Requirement already satisfied: scipy in c:\\anaconda\\lib\\site-packages (from Questgen==1.0.0) (1.5.4)\n",
      "Requirement already satisfied: scikit-learn in c:\\anaconda\\lib\\site-packages (from Questgen==1.0.0) (0.23.2)\n",
      "Collecting unidecode==1.1.1\n",
      "  Downloading Unidecode-1.1.1-py2.py3-none-any.whl (238 kB)\n",
      "Requirement already satisfied: future==0.18.2 in c:\\anaconda\\lib\\site-packages (from Questgen==1.0.0) (0.18.2)\n",
      "Collecting joblib==0.14.1\n",
      "  Using cached joblib-0.14.1-py2.py3-none-any.whl (294 kB)\n",
      "Collecting spacy==2.2.4\n",
      "  Downloading spacy-2.2.4-cp38-cp38-win_amd64.whl (10.1 MB)\n",
      "Requirement already satisfied: pytz==2020.1 in c:\\anaconda\\lib\\site-packages (from Questgen==1.0.0) (2020.1)\n",
      "Requirement already satisfied: python-dateutil==2.8.1 in c:\\anaconda\\lib\\site-packages (from Questgen==1.0.0) (2.8.1)\n",
      "Collecting boto3==1.14.40\n",
      "  Downloading boto3-1.14.40-py2.py3-none-any.whl (129 kB)\n",
      "Collecting flashtext==2.7\n",
      "  Downloading flashtext-2.7.tar.gz (14 kB)\n",
      "Requirement already satisfied: pandas in c:\\users\\91986\\appdata\\roaming\\python\\python38\\site-packages (from Questgen==1.0.0) (1.0.5)\n",
      "Requirement already satisfied: typing-extensions in c:\\anaconda\\lib\\site-packages (from torch==1.9.0->Questgen==1.0.0) (3.7.4.3)\n",
      "Requirement already satisfied: filelock in c:\\anaconda\\lib\\site-packages (from transformers==3.0.2->Questgen==1.0.0) (3.0.12)\n",
      "Requirement already satisfied: packaging in c:\\anaconda\\lib\\site-packages (from transformers==3.0.2->Questgen==1.0.0) (20.4)\n",
      "Requirement already satisfied: requests in c:\\anaconda\\lib\\site-packages (from transformers==3.0.2->Questgen==1.0.0) (2.24.0)\n",
      "Requirement already satisfied: sacremoses in c:\\anaconda\\lib\\site-packages (from transformers==3.0.2->Questgen==1.0.0) (0.0.45)\n",
      "Requirement already satisfied: tqdm>=4.27 in c:\\users\\91986\\appdata\\roaming\\python\\python38\\site-packages (from transformers==3.0.2->Questgen==1.0.0) (4.56.0)\n",
      "Collecting sentencepiece!=0.1.92\n",
      "  Downloading sentencepiece-0.1.96-cp38-cp38-win_amd64.whl (1.1 MB)\n",
      "Requirement already satisfied: regex!=2019.12.17 in c:\\anaconda\\lib\\site-packages (from transformers==3.0.2->Questgen==1.0.0) (2020.9.27)\n",
      "Collecting tokenizers==0.8.1.rc1\n",
      "  Downloading tokenizers-0.8.1rc1-cp38-cp38-win_amd64.whl (1.9 MB)\n",
      "Requirement already satisfied: PyYAML>=5.1 in c:\\anaconda\\lib\\site-packages (from pytorch_lightning==0.8.1->Questgen==1.0.0) (5.3.1)\n",
      "Requirement already satisfied: tensorboard>=1.14 in c:\\anaconda\\lib\\site-packages (from pytorch_lightning==0.8.1->Questgen==1.0.0) (2.4.1)\n",
      "Requirement already satisfied: catalogue>=0.0.4 in c:\\anaconda\\lib\\site-packages (from sense2vec==1.0.3->Questgen==1.0.0) (1.0.0)\n",
      "Requirement already satisfied: wasabi<1.1.0,>=0.4.0 in c:\\anaconda\\lib\\site-packages (from sense2vec==1.0.3->Questgen==1.0.0) (0.8.2)\n",
      "Requirement already satisfied: srsly>=0.2.0 in c:\\anaconda\\lib\\site-packages (from sense2vec==1.0.3->Questgen==1.0.0) (1.0.5)\n",
      "Requirement already satisfied: decorator>=4.3.0 in c:\\anaconda\\lib\\site-packages (from networkx==2.4.0->Questgen==1.0.0) (4.4.2)\n",
      "Requirement already satisfied: threadpoolctl>=2.0.0 in c:\\anaconda\\lib\\site-packages (from scikit-learn->Questgen==1.0.0) (2.1.0)\n",
      "Requirement already satisfied: preshed<3.1.0,>=3.0.2 in c:\\anaconda\\lib\\site-packages (from spacy==2.2.4->Questgen==1.0.0) (3.0.5)\n",
      "Requirement already satisfied: murmurhash<1.1.0,>=0.28.0 in c:\\anaconda\\lib\\site-packages (from spacy==2.2.4->Questgen==1.0.0) (1.0.5)\n",
      "Requirement already satisfied: setuptools in c:\\anaconda\\lib\\site-packages (from spacy==2.2.4->Questgen==1.0.0) (50.3.1.post20201107)\n",
      "Requirement already satisfied: cymem<2.1.0,>=2.0.2 in c:\\anaconda\\lib\\site-packages (from spacy==2.2.4->Questgen==1.0.0) (2.0.5)\n",
      "Collecting blis<0.5.0,>=0.4.0\n",
      "  Downloading blis-0.4.1-cp38-cp38-win_amd64.whl (5.0 MB)\n",
      "Requirement already satisfied: plac<1.2.0,>=0.9.6 in c:\\anaconda\\lib\\site-packages (from spacy==2.2.4->Questgen==1.0.0) (1.1.3)\n",
      "Collecting thinc==7.4.0\n",
      "  Downloading thinc-7.4.0-cp38-cp38-win_amd64.whl (2.1 MB)\n",
      "Requirement already satisfied: s3transfer<0.4.0,>=0.3.0 in c:\\anaconda\\lib\\site-packages (from boto3==1.14.40->Questgen==1.0.0) (0.3.7)\n",
      "Requirement already satisfied: jmespath<1.0.0,>=0.7.1 in c:\\anaconda\\lib\\site-packages (from boto3==1.14.40->Questgen==1.0.0) (0.10.0)\n",
      "Collecting botocore<1.18.0,>=1.17.40\n",
      "  Downloading botocore-1.17.63-py2.py3-none-any.whl (6.6 MB)\n",
      "Requirement already satisfied: pyparsing>=2.0.2 in c:\\anaconda\\lib\\site-packages (from packaging->transformers==3.0.2->Questgen==1.0.0) (2.4.7)\n",
      "Requirement already satisfied: idna<3,>=2.5 in c:\\anaconda\\lib\\site-packages (from requests->transformers==3.0.2->Questgen==1.0.0) (2.10)\n",
      "Requirement already satisfied: urllib3!=1.25.0,!=1.25.1,<1.26,>=1.21.1 in c:\\anaconda\\lib\\site-packages (from requests->transformers==3.0.2->Questgen==1.0.0) (1.25.11)\n",
      "Requirement already satisfied: chardet<4,>=3.0.2 in c:\\anaconda\\lib\\site-packages (from requests->transformers==3.0.2->Questgen==1.0.0) (3.0.4)\n",
      "Requirement already satisfied: certifi>=2017.4.17 in c:\\anaconda\\lib\\site-packages (from requests->transformers==3.0.2->Questgen==1.0.0) (2020.6.20)\n",
      "Requirement already satisfied: click in c:\\anaconda\\lib\\site-packages (from sacremoses->transformers==3.0.2->Questgen==1.0.0) (7.1.2)\n",
      "Requirement already satisfied: markdown>=2.6.8 in c:\\anaconda\\lib\\site-packages (from tensorboard>=1.14->pytorch_lightning==0.8.1->Questgen==1.0.0) (3.3.4)\n",
      "Requirement already satisfied: protobuf>=3.6.0 in c:\\anaconda\\lib\\site-packages (from tensorboard>=1.14->pytorch_lightning==0.8.1->Questgen==1.0.0) (3.15.6)\n",
      "Requirement already satisfied: google-auth<2,>=1.6.3 in c:\\anaconda\\lib\\site-packages (from tensorboard>=1.14->pytorch_lightning==0.8.1->Questgen==1.0.0) (1.29.0)\n",
      "Requirement already satisfied: tensorboard-plugin-wit>=1.6.0 in c:\\anaconda\\lib\\site-packages (from tensorboard>=1.14->pytorch_lightning==0.8.1->Questgen==1.0.0) (1.8.0)\n",
      "Requirement already satisfied: grpcio>=1.24.3 in c:\\anaconda\\lib\\site-packages (from tensorboard>=1.14->pytorch_lightning==0.8.1->Questgen==1.0.0) (1.37.0)\n",
      "Requirement already satisfied: werkzeug>=0.11.15 in c:\\anaconda\\lib\\site-packages (from tensorboard>=1.14->pytorch_lightning==0.8.1->Questgen==1.0.0) (1.0.1)\n",
      "Requirement already satisfied: wheel>=0.26; python_version >= \"3\" in c:\\anaconda\\lib\\site-packages (from tensorboard>=1.14->pytorch_lightning==0.8.1->Questgen==1.0.0) (0.35.1)\n",
      "Requirement already satisfied: absl-py>=0.4 in c:\\anaconda\\lib\\site-packages (from tensorboard>=1.14->pytorch_lightning==0.8.1->Questgen==1.0.0) (0.12.0)\n",
      "Requirement already satisfied: google-auth-oauthlib<0.5,>=0.4.1 in c:\\anaconda\\lib\\site-packages (from tensorboard>=1.14->pytorch_lightning==0.8.1->Questgen==1.0.0) (0.4.4)\n",
      "Collecting docutils<0.16,>=0.10\n",
      "  Downloading docutils-0.15.2-py3-none-any.whl (547 kB)\n",
      "Requirement already satisfied: cachetools<5.0,>=2.0.0 in c:\\anaconda\\lib\\site-packages (from google-auth<2,>=1.6.3->tensorboard>=1.14->pytorch_lightning==0.8.1->Questgen==1.0.0) (4.2.1)\n",
      "Requirement already satisfied: rsa<5,>=3.1.4; python_version >= \"3.6\" in c:\\anaconda\\lib\\site-packages (from google-auth<2,>=1.6.3->tensorboard>=1.14->pytorch_lightning==0.8.1->Questgen==1.0.0) (4.7.2)\n",
      "Requirement already satisfied: pyasn1-modules>=0.2.1 in c:\\anaconda\\lib\\site-packages (from google-auth<2,>=1.6.3->tensorboard>=1.14->pytorch_lightning==0.8.1->Questgen==1.0.0) (0.2.8)\n",
      "Requirement already satisfied: requests-oauthlib>=0.7.0 in c:\\anaconda\\lib\\site-packages (from google-auth-oauthlib<0.5,>=0.4.1->tensorboard>=1.14->pytorch_lightning==0.8.1->Questgen==1.0.0) (1.3.0)\n",
      "Requirement already satisfied: pyasn1>=0.1.3 in c:\\anaconda\\lib\\site-packages (from rsa<5,>=3.1.4; python_version >= \"3.6\"->google-auth<2,>=1.6.3->tensorboard>=1.14->pytorch_lightning==0.8.1->Questgen==1.0.0) (0.4.8)\n",
      "Requirement already satisfied: oauthlib>=3.0.0 in c:\\anaconda\\lib\\site-packages (from requests-oauthlib>=0.7.0->google-auth-oauthlib<0.5,>=0.4.1->tensorboard>=1.14->pytorch_lightning==0.8.1->Questgen==1.0.0) (3.1.0)\n",
      "Building wheels for collected packages: Questgen, flashtext\n",
      "  Building wheel for Questgen (setup.py): started\n",
      "  Building wheel for Questgen (setup.py): finished with status 'done'\n",
      "  Created wheel for Questgen: filename=Questgen-1.0.0-py3-none-any.whl size=8708 sha256=9a1cc6358155ee13606c6fc5b3821a1d07cd9fb0849c3ea48385cdd335d0383a\n",
      "  Stored in directory: C:\\Users\\91986\\AppData\\Local\\Temp\\pip-ephem-wheel-cache-7ijn5wr7\\wheels\\de\\09\\3e\\fa66dbcd8b70e37f55636c84567be559749dedfa2256b7052e\n",
      "  Building wheel for flashtext (setup.py): started\n",
      "  Building wheel for flashtext (setup.py): finished with status 'done'\n",
      "  Created wheel for flashtext: filename=flashtext-2.7-py2.py3-none-any.whl size=9308 sha256=3da3d686fa4dae263a4c7eb47d716458cbcdf77af62560fda3f57ba9048ed952\n",
      "  Stored in directory: c:\\users\\91986\\appdata\\local\\pip\\cache\\wheels\\8d\\62\\8b\\71813348245ae1bcbae179193bbc72db819e8057e89298a6ac\n",
      "Successfully built Questgen flashtext\n",
      "Installing collected packages: sentencepiece, tokenizers, transformers, pytorch-lightning, blis, thinc, spacy, sense2vec, strsim, networkx, unidecode, joblib, docutils, botocore, boto3, flashtext, Questgen\n",
      "  Attempting uninstall: tokenizers\n",
      "    Found existing installation: tokenizers 0.10.3\n",
      "    Uninstalling tokenizers-0.10.3:\n",
      "      Successfully uninstalled tokenizers-0.10.3\n",
      "  Attempting uninstall: transformers\n",
      "    Found existing installation: transformers 4.9.2\n",
      "    Uninstalling transformers-4.9.2:\n",
      "      Successfully uninstalled transformers-4.9.2\n",
      "  Attempting uninstall: blis\n",
      "    Found existing installation: blis 0.7.4\n",
      "    Uninstalling blis-0.7.4:\n",
      "      Successfully uninstalled blis-0.7.4\n",
      "  Attempting uninstall: thinc\n",
      "    Found existing installation: thinc 7.4.5\n",
      "    Uninstalling thinc-7.4.5:\n",
      "      Successfully uninstalled thinc-7.4.5\n",
      "  Attempting uninstall: spacy\n",
      "    Found existing installation: spacy 2.3.5\n",
      "    Uninstalling spacy-2.3.5:\n",
      "      Successfully uninstalled spacy-2.3.5\n",
      "  Attempting uninstall: networkx\n",
      "    Found existing installation: networkx 2.5\n",
      "    Uninstalling networkx-2.5:\n",
      "      Successfully uninstalled networkx-2.5\n",
      "  Attempting uninstall: joblib\n",
      "    Found existing installation: joblib 0.15.1\n",
      "    Uninstalling joblib-0.15.1:\n",
      "      Successfully uninstalled joblib-0.15.1\n",
      "  Attempting uninstall: docutils\n",
      "    Found existing installation: docutils 0.16\n",
      "    Uninstalling docutils-0.16:\n",
      "      Successfully uninstalled docutils-0.16\n",
      "  Attempting uninstall: botocore\n",
      "    Found existing installation: botocore 1.20.53\n",
      "    Uninstalling botocore-1.20.53:\n",
      "      Successfully uninstalled botocore-1.20.53\n",
      "  Attempting uninstall: boto3\n",
      "    Found existing installation: boto3 1.17.53\n",
      "    Uninstalling boto3-1.17.53:\n",
      "      Successfully uninstalled boto3-1.17.53\n",
      "Successfully installed Questgen-1.0.0 blis-0.4.1 boto3-1.14.40 botocore-1.17.63 docutils-0.15.2 flashtext-2.7 joblib-0.14.1 networkx-2.4 pytorch-lightning-0.8.1 sense2vec-1.0.3 sentencepiece-0.1.96 spacy-2.2.4 strsim-0.0.3 thinc-7.4.0 tokenizers-0.8.1rc1 transformers-3.0.2 unidecode-1.1.1\n"
     ]
    },
    {
     "name": "stderr",
     "output_type": "stream",
     "text": [
      "ERROR: After October 2020 you may experience errors when installing or updating packages. This is because pip will change the way that it resolves dependency conflicts.\n",
      "\n",
      "We recommend you use --use-feature=2020-resolver to test your packages with the new resolver before it becomes the default.\n",
      "\n",
      "lazypredict 0.2.9 requires joblib==1.0.0, but you'll have joblib 0.14.1 which is incompatible.\n",
      "lazypredict 0.2.9 requires numpy==1.19.1, but you'll have numpy 1.19.5 which is incompatible.\n",
      "lazypredict 0.2.9 requires scikit-learn==0.23.1, but you'll have scikit-learn 0.23.2 which is incompatible.\n",
      "pyldavis 3.3.1 requires numpy>=1.20.0, but you'll have numpy 1.19.5 which is incompatible.\n",
      "pyldavis 3.3.1 requires pandas>=1.2.0, but you'll have pandas 1.0.5 which is incompatible.\n",
      "imbalanced-learn 0.8.0 requires scikit-learn>=0.24, but you'll have scikit-learn 0.23.2 which is incompatible.\n",
      "evalml 0.21.0 requires networkx>=2.5, but you'll have networkx 2.4 which is incompatible.\n",
      "evalml 0.21.0 requires pandas>=1.1.0, but you'll have pandas 1.0.5 which is incompatible.\n"
     ]
    }
   ],
   "source": [
    "!pip install git+https://github.com/ramsrigouthamg/Questgen.ai"
   ]
  },
  {
   "cell_type": "code",
   "execution_count": 2,
   "metadata": {
    "id": "zV6T1TyS98LC"
   },
   "outputs": [],
   "source": [
    "!pip install --quiet git+https://github.com/boudinfl/pke.git\n"
   ]
  },
  {
   "cell_type": "code",
   "execution_count": 3,
   "metadata": {
    "id": "VgR7ovac98LH"
   },
   "outputs": [
    {
     "name": "stderr",
     "output_type": "stream",
     "text": [
      "C:\\ANACONDA\\lib\\runpy.py:127: RuntimeWarning: 'nltk.downloader' found in sys.modules after import of package 'nltk', but prior to execution of 'nltk.downloader'; this may result in unpredictable behaviour\n",
      "  warn(RuntimeWarning(msg))\n",
      "[nltk_data] Downloading package universal_tagset to\n",
      "[nltk_data]     C:\\Users\\91986\\AppData\\Roaming\\nltk_data...\n",
      "[nltk_data]   Package universal_tagset is already up-to-date!\n"
     ]
    },
    {
     "name": "stdout",
     "output_type": "stream",
     "text": [
      "Collecting en_core_web_sm==2.2.5\n",
      "  Downloading https://github.com/explosion/spacy-models/releases/download/en_core_web_sm-2.2.5/en_core_web_sm-2.2.5.tar.gz (12.0 MB)\n",
      "Requirement already satisfied: spacy>=2.2.2 in c:\\anaconda\\lib\\site-packages (from en_core_web_sm==2.2.5) (2.2.4)\n",
      "Requirement already satisfied: setuptools in c:\\anaconda\\lib\\site-packages (from spacy>=2.2.2->en_core_web_sm==2.2.5) (50.3.1.post20201107)\n",
      "Requirement already satisfied: blis<0.5.0,>=0.4.0 in c:\\anaconda\\lib\\site-packages (from spacy>=2.2.2->en_core_web_sm==2.2.5) (0.4.1)\n",
      "Requirement already satisfied: wasabi<1.1.0,>=0.4.0 in c:\\anaconda\\lib\\site-packages (from spacy>=2.2.2->en_core_web_sm==2.2.5) (0.8.2)\n",
      "Requirement already satisfied: catalogue<1.1.0,>=0.0.7 in c:\\anaconda\\lib\\site-packages (from spacy>=2.2.2->en_core_web_sm==2.2.5) (1.0.0)\n",
      "Requirement already satisfied: numpy>=1.15.0 in c:\\anaconda\\lib\\site-packages (from spacy>=2.2.2->en_core_web_sm==2.2.5) (1.19.5)\n",
      "Requirement already satisfied: tqdm<5.0.0,>=4.38.0 in c:\\users\\91986\\appdata\\roaming\\python\\python38\\site-packages (from spacy>=2.2.2->en_core_web_sm==2.2.5) (4.56.0)\n",
      "Requirement already satisfied: cymem<2.1.0,>=2.0.2 in c:\\anaconda\\lib\\site-packages (from spacy>=2.2.2->en_core_web_sm==2.2.5) (2.0.5)\n",
      "Requirement already satisfied: preshed<3.1.0,>=3.0.2 in c:\\anaconda\\lib\\site-packages (from spacy>=2.2.2->en_core_web_sm==2.2.5) (3.0.5)\n",
      "Requirement already satisfied: thinc==7.4.0 in c:\\anaconda\\lib\\site-packages (from spacy>=2.2.2->en_core_web_sm==2.2.5) (7.4.0)\n",
      "Requirement already satisfied: requests<3.0.0,>=2.13.0 in c:\\anaconda\\lib\\site-packages (from spacy>=2.2.2->en_core_web_sm==2.2.5) (2.24.0)\n",
      "Requirement already satisfied: srsly<1.1.0,>=1.0.2 in c:\\anaconda\\lib\\site-packages (from spacy>=2.2.2->en_core_web_sm==2.2.5) (1.0.5)\n",
      "Requirement already satisfied: murmurhash<1.1.0,>=0.28.0 in c:\\anaconda\\lib\\site-packages (from spacy>=2.2.2->en_core_web_sm==2.2.5) (1.0.5)\n",
      "Requirement already satisfied: plac<1.2.0,>=0.9.6 in c:\\anaconda\\lib\\site-packages (from spacy>=2.2.2->en_core_web_sm==2.2.5) (1.1.3)\n",
      "Requirement already satisfied: idna<3,>=2.5 in c:\\anaconda\\lib\\site-packages (from requests<3.0.0,>=2.13.0->spacy>=2.2.2->en_core_web_sm==2.2.5) (2.10)\n",
      "Requirement already satisfied: urllib3!=1.25.0,!=1.25.1,<1.26,>=1.21.1 in c:\\anaconda\\lib\\site-packages (from requests<3.0.0,>=2.13.0->spacy>=2.2.2->en_core_web_sm==2.2.5) (1.25.11)\n",
      "Requirement already satisfied: certifi>=2017.4.17 in c:\\anaconda\\lib\\site-packages (from requests<3.0.0,>=2.13.0->spacy>=2.2.2->en_core_web_sm==2.2.5) (2020.6.20)\n",
      "Requirement already satisfied: chardet<4,>=3.0.2 in c:\\anaconda\\lib\\site-packages (from requests<3.0.0,>=2.13.0->spacy>=2.2.2->en_core_web_sm==2.2.5) (3.0.4)\n",
      "Building wheels for collected packages: en-core-web-sm\n",
      "  Building wheel for en-core-web-sm (setup.py): started\n",
      "  Building wheel for en-core-web-sm (setup.py): finished with status 'done'\n",
      "  Created wheel for en-core-web-sm: filename=en_core_web_sm-2.2.5-py3-none-any.whl size=12011743 sha256=8c2fa8affc3c3a2efaaab55df90bd5053d1a725cf2e7b12744c94ff3d3d48aba\n",
      "  Stored in directory: C:\\Users\\91986\\AppData\\Local\\Temp\\pip-ephem-wheel-cache-6qjc74uu\\wheels\\77\\b4\\c8\\395804b9a2b6864aaff3623d7b709680acc3d04f47c8162ee6\n",
      "Successfully built en-core-web-sm\n",
      "Installing collected packages: en-core-web-sm\n",
      "Successfully installed en-core-web-sm-2.2.5\n",
      "[+] Download and installation successful\n",
      "You can now load the model via spacy.load('en_core_web_sm')\n",
      "[x] Couldn't link model to 'en'\n",
      "Creating a symlink in spacy/data failed. Make sure you have the required\n",
      "permissions and try re-running the command as admin, or use a virtualenv. You\n",
      "can still import the model as a module and call its load() method, or create the\n",
      "symlink manually.\n",
      "C:\\ANACONDA\\lib\\site-packages\\en_core_web_sm -->\n",
      "C:\\ANACONDA\\lib\\site-packages\\spacy\\data\\en\n",
      "[!] Download successful but linking failed\n",
      "Creating a shortcut link for 'en' didn't work (maybe you don't have admin\n",
      "permissions?), but you can still load the model via its full package name: nlp =\n",
      "spacy.load('en_core_web_sm')\n"
     ]
    },
    {
     "name": "stderr",
     "output_type": "stream",
     "text": [
      "You do not have sufficient privilege to perform this operation.\n"
     ]
    }
   ],
   "source": [
    "!python -m nltk.downloader universal_tagset\n",
    "!python -m spacy download en "
   ]
  },
  {
   "cell_type": "markdown",
   "metadata": {
    "id": "Xej73WKiH2rB"
   },
   "source": [
    "# Download Sense2vec wordvectors for generation of multiple choices"
   ]
  },
  {
   "cell_type": "code",
   "execution_count": 4,
   "metadata": {
    "id": "j6t3Q_NlIFmh"
   },
   "outputs": [
    {
     "name": "stderr",
     "output_type": "stream",
     "text": [
      "'wget' is not recognized as an internal or external command,\n",
      "operable program or batch file.\n"
     ]
    }
   ],
   "source": [
    "!wget https://github.com/explosion/sense2vec/releases/download/v1.0.0/s2v_reddit_2015_md.tar.gz"
   ]
  },
  {
   "cell_type": "code",
   "execution_count": 5,
   "metadata": {
    "id": "8tqQbWi0IGuf"
   },
   "outputs": [
    {
     "name": "stderr",
     "output_type": "stream",
     "text": [
      "tar: Error opening archive: Failed to open 's2v_reddit_2015_md.tar.gz'\n"
     ]
    }
   ],
   "source": [
    "!tar -xvf  s2v_reddit_2015_md.tar.gz"
   ]
  },
  {
   "cell_type": "code",
   "execution_count": 6,
   "metadata": {
    "id": "n9k2fs9RIKPC"
   },
   "outputs": [
    {
     "name": "stderr",
     "output_type": "stream",
     "text": [
      "'ls' is not recognized as an internal or external command,\n",
      "operable program or batch file.\n"
     ]
    }
   ],
   "source": [
    "!ls s2v_old"
   ]
  },
  {
   "cell_type": "code",
   "execution_count": 7,
   "metadata": {
    "id": "GRhrJfty2Sl-"
   },
   "outputs": [
    {
     "name": "stderr",
     "output_type": "stream",
     "text": [
      "[nltk_data] Downloading package stopwords to\n",
      "[nltk_data]     C:\\Users\\91986\\AppData\\Roaming\\nltk_data...\n",
      "[nltk_data]   Package stopwords is already up-to-date!\n"
     ]
    },
    {
     "data": {
      "text/plain": [
       "True"
      ]
     },
     "execution_count": 7,
     "metadata": {},
     "output_type": "execute_result"
    }
   ],
   "source": [
    "import nltk\n",
    "nltk.download('stopwords')"
   ]
  },
  {
   "cell_type": "markdown",
   "metadata": {
    "id": "Nh5aHPQvILf9"
   },
   "source": [
    "# Generate boolean (Yes/No) Questions"
   ]
  },
  {
   "cell_type": "code",
   "execution_count": 8,
   "metadata": {
    "colab": {
     "base_uri": "https://localhost:8080/"
    },
    "id": "ulyUikpT98LL",
    "outputId": "fa21a7b7-3e9c-489f-aa5d-fe498f2e8cd7"
   },
   "outputs": [
    {
     "name": "stderr",
     "output_type": "stream",
     "text": [
      "[nltk_data] Downloading package brown to\n",
      "[nltk_data]     C:\\Users\\91986\\AppData\\Roaming\\nltk_data...\n",
      "[nltk_data]   Package brown is already up-to-date!\n",
      "[nltk_data] Downloading package stopwords to\n",
      "[nltk_data]     C:\\Users\\91986\\AppData\\Roaming\\nltk_data...\n",
      "[nltk_data]   Package stopwords is already up-to-date!\n",
      "[nltk_data] Downloading collection 'popular'\n",
      "[nltk_data]    | \n",
      "[nltk_data]    | Downloading package cmudict to\n",
      "[nltk_data]    |     C:\\Users\\91986\\AppData\\Roaming\\nltk_data...\n",
      "[nltk_data]    |   Package cmudict is already up-to-date!\n",
      "[nltk_data]    | Downloading package gazetteers to\n",
      "[nltk_data]    |     C:\\Users\\91986\\AppData\\Roaming\\nltk_data...\n",
      "[nltk_data]    |   Package gazetteers is already up-to-date!\n",
      "[nltk_data]    | Downloading package genesis to\n",
      "[nltk_data]    |     C:\\Users\\91986\\AppData\\Roaming\\nltk_data...\n",
      "[nltk_data]    |   Package genesis is already up-to-date!\n",
      "[nltk_data]    | Downloading package gutenberg to\n",
      "[nltk_data]    |     C:\\Users\\91986\\AppData\\Roaming\\nltk_data...\n",
      "[nltk_data]    |   Package gutenberg is already up-to-date!\n",
      "[nltk_data]    | Downloading package inaugural to\n",
      "[nltk_data]    |     C:\\Users\\91986\\AppData\\Roaming\\nltk_data...\n",
      "[nltk_data]    |   Package inaugural is already up-to-date!\n",
      "[nltk_data]    | Downloading package movie_reviews to\n",
      "[nltk_data]    |     C:\\Users\\91986\\AppData\\Roaming\\nltk_data...\n",
      "[nltk_data]    |   Package movie_reviews is already up-to-date!\n",
      "[nltk_data]    | Downloading package names to\n",
      "[nltk_data]    |     C:\\Users\\91986\\AppData\\Roaming\\nltk_data...\n",
      "[nltk_data]    |   Package names is already up-to-date!\n",
      "[nltk_data]    | Downloading package shakespeare to\n",
      "[nltk_data]    |     C:\\Users\\91986\\AppData\\Roaming\\nltk_data...\n",
      "[nltk_data]    |   Package shakespeare is already up-to-date!\n",
      "[nltk_data]    | Downloading package stopwords to\n",
      "[nltk_data]    |     C:\\Users\\91986\\AppData\\Roaming\\nltk_data...\n",
      "[nltk_data]    |   Package stopwords is already up-to-date!\n",
      "[nltk_data]    | Downloading package treebank to\n",
      "[nltk_data]    |     C:\\Users\\91986\\AppData\\Roaming\\nltk_data...\n",
      "[nltk_data]    |   Package treebank is already up-to-date!\n",
      "[nltk_data]    | Downloading package twitter_samples to\n",
      "[nltk_data]    |     C:\\Users\\91986\\AppData\\Roaming\\nltk_data...\n",
      "[nltk_data]    |   Package twitter_samples is already up-to-date!\n",
      "[nltk_data]    | Downloading package omw to\n",
      "[nltk_data]    |     C:\\Users\\91986\\AppData\\Roaming\\nltk_data...\n",
      "[nltk_data]    |   Package omw is already up-to-date!\n",
      "[nltk_data]    | Downloading package wordnet to\n",
      "[nltk_data]    |     C:\\Users\\91986\\AppData\\Roaming\\nltk_data...\n",
      "[nltk_data]    |   Package wordnet is already up-to-date!\n",
      "[nltk_data]    | Downloading package wordnet_ic to\n",
      "[nltk_data]    |     C:\\Users\\91986\\AppData\\Roaming\\nltk_data...\n",
      "[nltk_data]    |   Package wordnet_ic is already up-to-date!\n",
      "[nltk_data]    | Downloading package words to\n",
      "[nltk_data]    |     C:\\Users\\91986\\AppData\\Roaming\\nltk_data...\n",
      "[nltk_data]    |   Package words is already up-to-date!\n",
      "[nltk_data]    | Downloading package maxent_ne_chunker to\n",
      "[nltk_data]    |     C:\\Users\\91986\\AppData\\Roaming\\nltk_data...\n",
      "[nltk_data]    |   Package maxent_ne_chunker is already up-to-date!\n",
      "[nltk_data]    | Downloading package punkt to\n",
      "[nltk_data]    |     C:\\Users\\91986\\AppData\\Roaming\\nltk_data...\n",
      "[nltk_data]    |   Package punkt is already up-to-date!\n",
      "[nltk_data]    | Downloading package snowball_data to\n",
      "[nltk_data]    |     C:\\Users\\91986\\AppData\\Roaming\\nltk_data...\n",
      "[nltk_data]    |   Package snowball_data is already up-to-date!\n",
      "[nltk_data]    | Downloading package averaged_perceptron_tagger to\n",
      "[nltk_data]    |     C:\\Users\\91986\\AppData\\Roaming\\nltk_data...\n",
      "[nltk_data]    |   Package averaged_perceptron_tagger is already up-\n",
      "[nltk_data]    |       to-date!\n",
      "[nltk_data]    | \n",
      "[nltk_data]  Done downloading collection popular\n",
      "[nltk_data] Downloading package brown to\n",
      "[nltk_data]     C:\\Users\\91986\\AppData\\Roaming\\nltk_data...\n",
      "[nltk_data]   Package brown is already up-to-date!\n",
      "[nltk_data] Downloading package stopwords to\n",
      "[nltk_data]     C:\\Users\\91986\\AppData\\Roaming\\nltk_data...\n",
      "[nltk_data]   Package stopwords is already up-to-date!\n",
      "[nltk_data] Downloading collection 'popular'\n",
      "[nltk_data]    | \n",
      "[nltk_data]    | Downloading package cmudict to\n",
      "[nltk_data]    |     C:\\Users\\91986\\AppData\\Roaming\\nltk_data...\n",
      "[nltk_data]    |   Package cmudict is already up-to-date!\n",
      "[nltk_data]    | Downloading package gazetteers to\n",
      "[nltk_data]    |     C:\\Users\\91986\\AppData\\Roaming\\nltk_data...\n",
      "[nltk_data]    |   Package gazetteers is already up-to-date!\n",
      "[nltk_data]    | Downloading package genesis to\n",
      "[nltk_data]    |     C:\\Users\\91986\\AppData\\Roaming\\nltk_data...\n",
      "[nltk_data]    |   Package genesis is already up-to-date!\n",
      "[nltk_data]    | Downloading package gutenberg to\n",
      "[nltk_data]    |     C:\\Users\\91986\\AppData\\Roaming\\nltk_data...\n",
      "[nltk_data]    |   Package gutenberg is already up-to-date!\n",
      "[nltk_data]    | Downloading package inaugural to\n",
      "[nltk_data]    |     C:\\Users\\91986\\AppData\\Roaming\\nltk_data...\n",
      "[nltk_data]    |   Package inaugural is already up-to-date!\n",
      "[nltk_data]    | Downloading package movie_reviews to\n",
      "[nltk_data]    |     C:\\Users\\91986\\AppData\\Roaming\\nltk_data...\n",
      "[nltk_data]    |   Package movie_reviews is already up-to-date!\n",
      "[nltk_data]    | Downloading package names to\n",
      "[nltk_data]    |     C:\\Users\\91986\\AppData\\Roaming\\nltk_data...\n",
      "[nltk_data]    |   Package names is already up-to-date!\n",
      "[nltk_data]    | Downloading package shakespeare to\n",
      "[nltk_data]    |     C:\\Users\\91986\\AppData\\Roaming\\nltk_data...\n",
      "[nltk_data]    |   Package shakespeare is already up-to-date!\n",
      "[nltk_data]    | Downloading package stopwords to\n",
      "[nltk_data]    |     C:\\Users\\91986\\AppData\\Roaming\\nltk_data...\n",
      "[nltk_data]    |   Package stopwords is already up-to-date!\n",
      "[nltk_data]    | Downloading package treebank to\n",
      "[nltk_data]    |     C:\\Users\\91986\\AppData\\Roaming\\nltk_data...\n",
      "[nltk_data]    |   Package treebank is already up-to-date!\n",
      "[nltk_data]    | Downloading package twitter_samples to\n",
      "[nltk_data]    |     C:\\Users\\91986\\AppData\\Roaming\\nltk_data...\n",
      "[nltk_data]    |   Package twitter_samples is already up-to-date!\n",
      "[nltk_data]    | Downloading package omw to\n",
      "[nltk_data]    |     C:\\Users\\91986\\AppData\\Roaming\\nltk_data...\n",
      "[nltk_data]    |   Package omw is already up-to-date!\n",
      "[nltk_data]    | Downloading package wordnet to\n",
      "[nltk_data]    |     C:\\Users\\91986\\AppData\\Roaming\\nltk_data...\n",
      "[nltk_data]    |   Package wordnet is already up-to-date!\n",
      "[nltk_data]    | Downloading package wordnet_ic to\n",
      "[nltk_data]    |     C:\\Users\\91986\\AppData\\Roaming\\nltk_data...\n",
      "[nltk_data]    |   Package wordnet_ic is already up-to-date!\n",
      "[nltk_data]    | Downloading package words to\n",
      "[nltk_data]    |     C:\\Users\\91986\\AppData\\Roaming\\nltk_data...\n",
      "[nltk_data]    |   Package words is already up-to-date!\n",
      "[nltk_data]    | Downloading package maxent_ne_chunker to\n",
      "[nltk_data]    |     C:\\Users\\91986\\AppData\\Roaming\\nltk_data...\n",
      "[nltk_data]    |   Package maxent_ne_chunker is already up-to-date!\n",
      "[nltk_data]    | Downloading package punkt to\n",
      "[nltk_data]    |     C:\\Users\\91986\\AppData\\Roaming\\nltk_data...\n",
      "[nltk_data]    |   Package punkt is already up-to-date!\n",
      "[nltk_data]    | Downloading package snowball_data to\n",
      "[nltk_data]    |     C:\\Users\\91986\\AppData\\Roaming\\nltk_data...\n",
      "[nltk_data]    |   Package snowball_data is already up-to-date!\n",
      "[nltk_data]    | Downloading package averaged_perceptron_tagger to\n",
      "[nltk_data]    |     C:\\Users\\91986\\AppData\\Roaming\\nltk_data...\n",
      "[nltk_data]    |   Package averaged_perceptron_tagger is already up-\n",
      "[nltk_data]    |       to-date!\n",
      "[nltk_data]    | \n",
      "[nltk_data]  Done downloading collection popular\n"
     ]
    }
   ],
   "source": [
    "from pprint import pprint\n",
    "from Questgen import main"
   ]
  },
  {
   "cell_type": "code",
   "execution_count": null,
   "metadata": {
    "colab": {
     "base_uri": "https://localhost:8080/",
     "height": 165,
     "referenced_widgets": [
      "6e8976e622174831ad4bb2c732d552a8",
      "1f187d3d83ab4601b7ba02fc5a47436f",
      "7d31355634e746aeb31482ad92d7a5c5",
      "d553cf9dc5374ef88acae2631146a338",
      "0a1c1c70eca34de29af5d7925461b829",
      "860eda1b2f8e47c49d2db59418a5c2fc",
      "1b3d9b9f03244118a90953ddb6458b4d",
      "a173c8a292bc4cdca61b2a88d79e3461",
      "51453af9bf7347fb9f2afa76735a4958",
      "105ba59437ea4df69fcddb3c03b5f558",
      "819c628b5c08411b93f129834d71d4eb",
      "650461e71d9e41f59bf585b806c26631",
      "e7de27deacbc44abb0ccfbde58142027",
      "0044bbf881084790b86dee02acf13921",
      "6038afa2736745d38be28155e191843d",
      "feeb9e46c5ac47c09228499caf6dfbd9",
      "3de8b24f05df420382ff08b545da90e8",
      "b0971dd49ab7476589bfbb0a5fae1adc",
      "893b5bbebdf545f09ac80043f6864cd8",
      "db0c6fa48b7142bcaa2b0fac68f6f7fa",
      "b135247438024aa3b6f74026933544b8",
      "b3a6a573959947609732d0488a147423",
      "ee0bc52b69fa4d19840e227c57f3cbfc",
      "8aa7d37437af4a5ba41bc5739088fc5d"
     ]
    },
    "id": "l7d1IMoK98LP",
    "outputId": "e0aa4d36-6642-4048-f399-cf5d00145d3b"
   },
   "outputs": [
    {
     "data": {
      "application/vnd.jupyter.widget-view+json": {
       "model_id": "6e8976e622174831ad4bb2c732d552a8",
       "version_major": 2,
       "version_minor": 0
      },
      "text/plain": [
       "HBox(children=(FloatProgress(value=0.0, description='Downloading', max=791656.0, style=ProgressStyle(descripti…"
      ]
     },
     "metadata": {
      "tags": []
     },
     "output_type": "display_data"
    },
    {
     "name": "stdout",
     "output_type": "stream",
     "text": [
      "\n"
     ]
    },
    {
     "data": {
      "application/vnd.jupyter.widget-view+json": {
       "model_id": "51453af9bf7347fb9f2afa76735a4958",
       "version_major": 2,
       "version_minor": 0
      },
      "text/plain": [
       "HBox(children=(FloatProgress(value=0.0, description='Downloading', max=1208.0, style=ProgressStyle(description…"
      ]
     },
     "metadata": {
      "tags": []
     },
     "output_type": "display_data"
    },
    {
     "name": "stdout",
     "output_type": "stream",
     "text": [
      "\n"
     ]
    },
    {
     "data": {
      "application/vnd.jupyter.widget-view+json": {
       "model_id": "3de8b24f05df420382ff08b545da90e8",
       "version_major": 2,
       "version_minor": 0
      },
      "text/plain": [
       "HBox(children=(FloatProgress(value=0.0, description='Downloading', max=891691413.0, style=ProgressStyle(descri…"
      ]
     },
     "metadata": {
      "tags": []
     },
     "output_type": "display_data"
    },
    {
     "name": "stdout",
     "output_type": "stream",
     "text": [
      "\n"
     ]
    }
   ],
   "source": [
    "qe= main.BoolQGen()"
   ]
  },
  {
   "cell_type": "code",
   "execution_count": null,
   "metadata": {
    "id": "CztS005g98LS"
   },
   "outputs": [],
   "source": [
    "payload = {\n",
    "            \"input_text\": \"Sachin Ramesh Tendulkar is a former international cricketer from India and a former captain of the Indian national team. He is widely regarded as one of the greatest batsmen in the history of cricket. He is the highest run scorer of all time in International cricket.\"\n",
    "        }"
   ]
  },
  {
   "cell_type": "code",
   "execution_count": null,
   "metadata": {
    "colab": {
     "base_uri": "https://localhost:8080/"
    },
    "id": "0kbWnAxBJnuX",
    "outputId": "13a5e8d9-3907-4e1a-c251-acf1638783d8"
   },
   "outputs": [
    {
     "name": "stderr",
     "output_type": "stream",
     "text": [
      "/usr/local/lib/python3.7/dist-packages/torch/_tensor.py:575: UserWarning: floor_divide is deprecated, and will be removed in a future version of pytorch. It currently rounds toward 0 (like the 'trunc' function NOT 'floor'). This results in incorrect rounding for negative values.\n",
      "To keep the current behavior, use torch.div(a, b, rounding_mode='trunc'), or for actual floor division, use torch.div(a, b, rounding_mode='floor'). (Triggered internally at  /pytorch/aten/src/ATen/native/BinaryOps.cpp:467.)\n",
      "  return torch.floor_divide(self, other)\n"
     ]
    },
    {
     "name": "stdout",
     "output_type": "stream",
     "text": [
      "{'Boolean Questions': ['Is sachin ramesh tendulkar the highest run scorer in '\n",
      "                       'cricket?',\n",
      "                       'Is sachin ramesh tendulkar the highest run scorer in '\n",
      "                       'cricket?',\n",
      "                       'Is sachin tendulkar the highest run scorer in '\n",
      "                       'cricket?'],\n",
      " 'Count': 4,\n",
      " 'Text': 'Sachin Ramesh Tendulkar is a former international cricketer from '\n",
      "         'India and a former captain of the Indian national team. He is widely '\n",
      "         'regarded as one of the greatest batsmen in the history of cricket. '\n",
      "         'He is the highest run scorer of all time in International cricket.'}\n"
     ]
    }
   ],
   "source": [
    "output = qe.predict_boolq(payload)\n",
    "pprint (output)"
   ]
  },
  {
   "cell_type": "markdown",
   "metadata": {
    "id": "6d5VpQQBKTPK"
   },
   "source": [
    "# Generate MCQ Questions"
   ]
  },
  {
   "cell_type": "code",
   "execution_count": null,
   "metadata": {
    "colab": {
     "base_uri": "https://localhost:8080/",
     "referenced_widgets": [
      "f3b812144d194c9cb1305189907bf62a",
      "8f1b404555374c3f986e02fdc4bb0715",
      "e46dbca937b549aea7f517263776a3a8",
      "d44f652d06e74262b1d91999daa70e06",
      "f61ea3b6dcef42f486069dccb662a2e3",
      "21ce187d8d37423da00662f5533c551b",
      "88622981a3ae4f539f7e51c910f86010",
      "eee62782167c45a9926baeb46a3b4921",
      "8d5cd88def084ed9922385d77f346a45",
      "4b4b7cb97a1742fbbc81e88f9934a027",
      "51f65178f363453f989a397dbf1eb8ea",
      "7dd774b27bf44fcf86bc903e675689f5",
      "b446f1a183384519b87b9ea20016bd0b",
      "521c8b67fae04347835474cbc35b6ba4",
      "9e8759cc4c0342caa7631933ef964fa5",
      "43917409863c40b785d40bb3a93ae7b2"
     ]
    },
    "id": "faxCbO2c98LV",
    "outputId": "478c1c21-6e53-4c21-b851-a10715164434"
   },
   "outputs": [
    {
     "data": {
      "application/vnd.jupyter.widget-view+json": {
       "model_id": "f3b812144d194c9cb1305189907bf62a",
       "version_major": 2,
       "version_minor": 0
      },
      "text/plain": [
       "HBox(children=(FloatProgress(value=0.0, description='Downloading', max=1208.0, style=ProgressStyle(description…"
      ]
     },
     "metadata": {
      "tags": []
     },
     "output_type": "display_data"
    },
    {
     "name": "stdout",
     "output_type": "stream",
     "text": [
      "\n"
     ]
    },
    {
     "data": {
      "application/vnd.jupyter.widget-view+json": {
       "model_id": "8d5cd88def084ed9922385d77f346a45",
       "version_major": 2,
       "version_minor": 0
      },
      "text/plain": [
       "HBox(children=(FloatProgress(value=0.0, description='Downloading', max=891695056.0, style=ProgressStyle(descri…"
      ]
     },
     "metadata": {
      "tags": []
     },
     "output_type": "display_data"
    },
    {
     "name": "stdout",
     "output_type": "stream",
     "text": [
      "\n"
     ]
    }
   ],
   "source": [
    "\n",
    "qg = main.QGen()"
   ]
  },
  {
   "cell_type": "code",
   "execution_count": null,
   "metadata": {
    "colab": {
     "base_uri": "https://localhost:8080/"
    },
    "id": "Og7zSPEC98La",
    "outputId": "94c47366-0f08-4c21-cd8f-08fb5ec1e594"
   },
   "outputs": [
    {
     "name": "stdout",
     "output_type": "stream",
     "text": [
      "Running model for generation\n",
      " Sense2vec_distractors successful for word :  cricketer\n",
      " Sense2vec_distractors successful for word :  india\n",
      " Sense2vec_distractors successful for word :  batsmen\n",
      "{'questions': [{'answer': 'cricketer',\n",
      "                'context': 'Sachin Ramesh Tendulkar is a former international '\n",
      "                           'cricketer from India and a former captain of the '\n",
      "                           'Indian national team.',\n",
      "                'extra_options': ['Mark Waugh',\n",
      "                                  'Sharma',\n",
      "                                  'Ricky Ponting',\n",
      "                                  'Afridi',\n",
      "                                  'Kohli',\n",
      "                                  'Dhoni'],\n",
      "                'id': 1,\n",
      "                'options': ['Brett Lee', 'Footballer', 'International Cricket'],\n",
      "                'options_algorithm': 'sense2vec',\n",
      "                'question_statement': \"What is Sachin Ramesh Tendulkar's \"\n",
      "                                      'career?',\n",
      "                'question_type': 'MCQ'},\n",
      "               {'answer': 'india',\n",
      "                'context': 'Sachin Ramesh Tendulkar is a former international '\n",
      "                           'cricketer from India and a former captain of the '\n",
      "                           'Indian national team.',\n",
      "                'extra_options': ['Pakistan',\n",
      "                                  'South Korea',\n",
      "                                  'Nepal',\n",
      "                                  'Philippines',\n",
      "                                  'Zimbabwe'],\n",
      "                'id': 2,\n",
      "                'options': ['Bangladesh', 'Indonesia', 'China'],\n",
      "                'options_algorithm': 'sense2vec',\n",
      "                'question_statement': 'Where is Sachin Ramesh Tendulkar from?',\n",
      "                'question_type': 'MCQ'},\n",
      "               {'answer': 'batsmen',\n",
      "                'context': 'He is widely regarded as one of the greatest '\n",
      "                           'batsmen in the history of cricket.',\n",
      "                'extra_options': ['Ashwin', 'Dhoni', 'Afridi', 'Death Overs'],\n",
      "                'id': 3,\n",
      "                'options': ['Bowlers', 'Wickets', 'Mccullum'],\n",
      "                'options_algorithm': 'sense2vec',\n",
      "                'question_statement': 'What is the best cricketer?',\n",
      "                'question_type': 'MCQ'}],\n",
      " 'statement': 'Sachin Ramesh Tendulkar is a former international cricketer '\n",
      "              'from India and a former captain of the Indian national team. He '\n",
      "              'is widely regarded as one of the greatest batsmen in the '\n",
      "              'history of cricket. He is the highest run scorer of all time in '\n",
      "              'International cricket.',\n",
      " 'time_taken': 5.622900485992432}\n"
     ]
    }
   ],
   "source": [
    "output = qg.predict_mcq(payload)\n",
    "pprint (output)\n"
   ]
  },
  {
   "cell_type": "markdown",
   "metadata": {
    "id": "rerYArdby7vb"
   },
   "source": [
    "# Generate FAQs"
   ]
  },
  {
   "cell_type": "code",
   "execution_count": null,
   "metadata": {
    "colab": {
     "base_uri": "https://localhost:8080/"
    },
    "id": "iHjK0_L-w4wQ",
    "outputId": "fa5ac34c-b7d8-4ead-c205-4c9377083eb0"
   },
   "outputs": [
    {
     "name": "stdout",
     "output_type": "stream",
     "text": [
      "Running model for generation\n",
      "{'questions': [{'Question': \"What is Sachin Ramesh Tendulkar's career?\", 'Answer': 'cricketer', 'id': 1, 'context': 'Sachin Ramesh Tendulkar is a former international cricketer from India and a former captain of the Indian national team.'}, {'Question': 'Where is Sachin Ramesh Tendulkar from?', 'Answer': 'india', 'id': 2, 'context': 'Sachin Ramesh Tendulkar is a former international cricketer from India and a former captain of the Indian national team.'}, {'Question': 'What is the best cricketer?', 'Answer': 'batsmen', 'id': 3, 'context': 'He is widely regarded as one of the greatest batsmen in the history of cricket.'}]}\n",
      "{'questions': [{'Answer': 'cricketer',\n",
      "                'Question': \"What is Sachin Ramesh Tendulkar's career?\",\n",
      "                'context': 'Sachin Ramesh Tendulkar is a former international '\n",
      "                           'cricketer from India and a former captain of the '\n",
      "                           'Indian national team.',\n",
      "                'id': 1},\n",
      "               {'Answer': 'india',\n",
      "                'Question': 'Where is Sachin Ramesh Tendulkar from?',\n",
      "                'context': 'Sachin Ramesh Tendulkar is a former international '\n",
      "                           'cricketer from India and a former captain of the '\n",
      "                           'Indian national team.',\n",
      "                'id': 2},\n",
      "               {'Answer': 'batsmen',\n",
      "                'Question': 'What is the best cricketer?',\n",
      "                'context': 'He is widely regarded as one of the greatest '\n",
      "                           'batsmen in the history of cricket.',\n",
      "                'id': 3}],\n",
      " 'statement': 'Sachin Ramesh Tendulkar is a former international cricketer '\n",
      "              'from India and a former captain of the Indian national team. He '\n",
      "              'is widely regarded as one of the greatest batsmen in the '\n",
      "              'history of cricket. He is the highest run scorer of all time in '\n",
      "              'International cricket.'}\n"
     ]
    }
   ],
   "source": [
    "output = qg.predict_shortq(payload)\n",
    "pprint (output)"
   ]
  },
  {
   "cell_type": "markdown",
   "metadata": {
    "id": "tiKBEqeHy2-c"
   },
   "source": [
    "# Paraphrasing Questions"
   ]
  },
  {
   "cell_type": "code",
   "execution_count": null,
   "metadata": {
    "id": "augX3OiExb21"
   },
   "outputs": [],
   "source": [
    "payload2 = {\n",
    "    \"input_text\" : \"What is Sachin Tendulkar profession?\",\n",
    "    \"max_questions\": 5\n",
    "}"
   ]
  },
  {
   "cell_type": "code",
   "execution_count": null,
   "metadata": {
    "colab": {
     "base_uri": "https://localhost:8080/"
    },
    "id": "PhMsaTyExusC",
    "outputId": "ecd1619e-94c0-4155-b393-d7416b99895d"
   },
   "outputs": [
    {
     "name": "stdout",
     "output_type": "stream",
     "text": [
      "0: ParaphrasedTarget: What is Sachin Tendulkar's profession?\n",
      "1: ParaphrasedTarget: What is Sachin Tendulkar's career?\n",
      "2: ParaphrasedTarget: What is Sachin Tendulkar's job?\n",
      "3: ParaphrasedTarget: What is Sachin Tendulkar?\n",
      "4: ParaphrasedTarget: What is Sachin Tendulkar's occupation?\n",
      "Output :\n",
      "{'Count': 5,\n",
      " 'Paraphrased Questions': [\"ParaphrasedTarget: What is Sachin Tendulkar's \"\n",
      "                           'profession?',\n",
      "                           \"ParaphrasedTarget: What is Sachin Tendulkar's \"\n",
      "                           'career?',\n",
      "                           \"ParaphrasedTarget: What is Sachin Tendulkar's job?\",\n",
      "                           'ParaphrasedTarget: What is Sachin Tendulkar?',\n",
      "                           \"ParaphrasedTarget: What is Sachin Tendulkar's \"\n",
      "                           'occupation?'],\n",
      " 'Question': 'What is Sachin Tendulkar profession?'}\n"
     ]
    }
   ],
   "source": [
    "output = qg.paraphrase(payload2)\n",
    "print (\"Output :\")\n",
    "pprint (output)"
   ]
  },
  {
   "cell_type": "markdown",
   "metadata": {
    "id": "3Nxi86jH49N7"
   },
   "source": [
    "# Question Answering"
   ]
  },
  {
   "cell_type": "markdown",
   "metadata": {
    "id": "L9EUFAfb5_MP"
   },
   "source": [
    "\n",
    "\n",
    "\n",
    "## Simple Question Answering"
   ]
  },
  {
   "cell_type": "code",
   "execution_count": null,
   "metadata": {
    "colab": {
     "base_uri": "https://localhost:8080/",
     "height": 115,
     "referenced_widgets": [
      "d2d5a9d3f36e426c8cf6d74264c50b2d",
      "3f111eb6ddb84ae4a05d442b16d30a02",
      "4ec556e52cd644fab0c077924caf9068",
      "9f6600bc828c47da8cec871e732fc132",
      "d052184c6d8547468807436444813e64",
      "034b8d9989ba49cb855892d68ec528ae",
      "35eb122aaea24d69ae8bf7d4acea5b7e",
      "c4600434e0484921a8d722d242308f33",
      "05b259398d7a4f18b3bf4cbc37bc62c5",
      "1770ca68a60249379db511cc77ef0b04",
      "ce7c0085105c4a248a532698019f7a0c",
      "588c0c0ea39b4506b72f63380b5ba7ae",
      "276709584b834bcf8dcc6abca652660e",
      "0dd80d505ce045daa470e3ce28ff43b3",
      "b323b337668a48fd9c1b8aa17d140f4f",
      "69c6290b3be942f986a000941354cef8"
     ]
    },
    "id": "YAHcS4mD3sqD",
    "outputId": "2bf79537-d2fc-4e39-957e-b62bbeb3cd22"
   },
   "outputs": [
    {
     "data": {
      "application/vnd.jupyter.widget-view+json": {
       "model_id": "d2d5a9d3f36e426c8cf6d74264c50b2d",
       "version_major": 2,
       "version_minor": 0
      },
      "text/plain": [
       "HBox(children=(FloatProgress(value=0.0, description='Downloading', max=1206.0, style=ProgressStyle(description…"
      ]
     },
     "metadata": {
      "tags": []
     },
     "output_type": "display_data"
    },
    {
     "name": "stdout",
     "output_type": "stream",
     "text": [
      "\n"
     ]
    },
    {
     "data": {
      "application/vnd.jupyter.widget-view+json": {
       "model_id": "05b259398d7a4f18b3bf4cbc37bc62c5",
       "version_major": 2,
       "version_minor": 0
      },
      "text/plain": [
       "HBox(children=(FloatProgress(value=0.0, description='Downloading', max=242068027.0, style=ProgressStyle(descri…"
      ]
     },
     "metadata": {
      "tags": []
     },
     "output_type": "display_data"
    },
    {
     "name": "stdout",
     "output_type": "stream",
     "text": [
      "\n"
     ]
    }
   ],
   "source": [
    "answer = main.AnswerPredictor()"
   ]
  },
  {
   "cell_type": "code",
   "execution_count": null,
   "metadata": {
    "id": "_IjlTPJS5WQv"
   },
   "outputs": [],
   "source": [
    "payload3 = {\n",
    "    \"input_text\" : '''Sachin Ramesh Tendulkar is a former international cricketer from \n",
    "              India and a former captain of the Indian national team. He is widely regarded \n",
    "              as one of the greatest batsmen in the history of cricket. He is the highest\n",
    "               run scorer of all time in International cricket.''',\n",
    "    \"input_question\" : \"Who is Sachin tendulkar ? \"\n",
    "\n",
    "}"
   ]
  },
  {
   "cell_type": "code",
   "execution_count": null,
   "metadata": {
    "colab": {
     "base_uri": "https://localhost:8080/",
     "height": 35
    },
    "id": "QN45VuT250Ui",
    "outputId": "7a6c42dc-8752-4396-9cfe-ef8cebb26d53"
   },
   "outputs": [
    {
     "data": {
      "application/vnd.google.colaboratory.intrinsic+json": {
       "type": "string"
      },
      "text/plain": [
       "'Sachin ramesh tendulkar is a former international cricketer from india and a former captain of the indian national team.'"
      ]
     },
     "execution_count": 18,
     "metadata": {
      "tags": []
     },
     "output_type": "execute_result"
    }
   ],
   "source": [
    "answer.predict_answer(payload3)"
   ]
  },
  {
   "cell_type": "markdown",
   "metadata": {
    "id": "dVMFCSZk6CND"
   },
   "source": [
    "## Boolean Question Answering"
   ]
  },
  {
   "cell_type": "code",
   "execution_count": null,
   "metadata": {
    "id": "Vihg8QXU57Zo"
   },
   "outputs": [],
   "source": [
    "payload4 = {\n",
    "    \"input_text\" : '''Sachin Ramesh Tendulkar is a former international cricketer from \n",
    "              India and a former captain of the Indian national team. He is widely regarded \n",
    "              as one of the greatest batsmen in the history of cricket. He is the highest\n",
    "               run scorer of all time in International cricket.''',\n",
    "    \"input_question\" : \"Is Sachin tendulkar  a former cricketer? \"\n",
    "\n",
    "}"
   ]
  },
  {
   "cell_type": "code",
   "execution_count": null,
   "metadata": {
    "colab": {
     "base_uri": "https://localhost:8080/",
     "height": 35
    },
    "id": "B7OLbYBy65gN",
    "outputId": "b443aea3-480c-49d4-8c7d-4bd6b6bb6610"
   },
   "outputs": [
    {
     "data": {
      "application/vnd.google.colaboratory.intrinsic+json": {
       "type": "string"
      },
      "text/plain": [
       "'Yes, sachin tendulkar is a former cricketer.'"
      ]
     },
     "execution_count": 20,
     "metadata": {
      "tags": []
     },
     "output_type": "execute_result"
    }
   ],
   "source": [
    "answer.predict_answer(payload4)"
   ]
  }
 ],
 "metadata": {
  "colab": {
   "collapsed_sections": [
    "Xej73WKiH2rB"
   ],
   "name": "Questgen NLP Library Demo Aug 2020",
   "provenance": []
  },
  "kernelspec": {
   "display_name": "Python 3",
   "language": "python",
   "name": "python3"
  },
  "language_info": {
   "codemirror_mode": {
    "name": "ipython",
    "version": 3
   },
   "file_extension": ".py",
   "mimetype": "text/x-python",
   "name": "python",
   "nbconvert_exporter": "python",
   "pygments_lexer": "ipython3",
   "version": "3.8.5"
  },
  "widgets": {
   "application/vnd.jupyter.widget-state+json": {
    "0044bbf881084790b86dee02acf13921": {
     "model_module": "@jupyter-widgets/base",
     "model_module_version": "1.2.0",
     "model_name": "LayoutModel",
     "state": {
      "_model_module": "@jupyter-widgets/base",
      "_model_module_version": "1.2.0",
      "_model_name": "LayoutModel",
      "_view_count": null,
      "_view_module": "@jupyter-widgets/base",
      "_view_module_version": "1.2.0",
      "_view_name": "LayoutView",
      "align_content": null,
      "align_items": null,
      "align_self": null,
      "border": null,
      "bottom": null,
      "display": null,
      "flex": null,
      "flex_flow": null,
      "grid_area": null,
      "grid_auto_columns": null,
      "grid_auto_flow": null,
      "grid_auto_rows": null,
      "grid_column": null,
      "grid_gap": null,
      "grid_row": null,
      "grid_template_areas": null,
      "grid_template_columns": null,
      "grid_template_rows": null,
      "height": null,
      "justify_content": null,
      "justify_items": null,
      "left": null,
      "margin": null,
      "max_height": null,
      "max_width": null,
      "min_height": null,
      "min_width": null,
      "object_fit": null,
      "object_position": null,
      "order": null,
      "overflow": null,
      "overflow_x": null,
      "overflow_y": null,
      "padding": null,
      "right": null,
      "top": null,
      "visibility": null,
      "width": null
     }
    },
    "034b8d9989ba49cb855892d68ec528ae": {
     "model_module": "@jupyter-widgets/base",
     "model_module_version": "1.2.0",
     "model_name": "LayoutModel",
     "state": {
      "_model_module": "@jupyter-widgets/base",
      "_model_module_version": "1.2.0",
      "_model_name": "LayoutModel",
      "_view_count": null,
      "_view_module": "@jupyter-widgets/base",
      "_view_module_version": "1.2.0",
      "_view_name": "LayoutView",
      "align_content": null,
      "align_items": null,
      "align_self": null,
      "border": null,
      "bottom": null,
      "display": null,
      "flex": null,
      "flex_flow": null,
      "grid_area": null,
      "grid_auto_columns": null,
      "grid_auto_flow": null,
      "grid_auto_rows": null,
      "grid_column": null,
      "grid_gap": null,
      "grid_row": null,
      "grid_template_areas": null,
      "grid_template_columns": null,
      "grid_template_rows": null,
      "height": null,
      "justify_content": null,
      "justify_items": null,
      "left": null,
      "margin": null,
      "max_height": null,
      "max_width": null,
      "min_height": null,
      "min_width": null,
      "object_fit": null,
      "object_position": null,
      "order": null,
      "overflow": null,
      "overflow_x": null,
      "overflow_y": null,
      "padding": null,
      "right": null,
      "top": null,
      "visibility": null,
      "width": null
     }
    },
    "05b259398d7a4f18b3bf4cbc37bc62c5": {
     "model_module": "@jupyter-widgets/controls",
     "model_module_version": "1.5.0",
     "model_name": "HBoxModel",
     "state": {
      "_dom_classes": [],
      "_model_module": "@jupyter-widgets/controls",
      "_model_module_version": "1.5.0",
      "_model_name": "HBoxModel",
      "_view_count": null,
      "_view_module": "@jupyter-widgets/controls",
      "_view_module_version": "1.5.0",
      "_view_name": "HBoxView",
      "box_style": "",
      "children": [
       "IPY_MODEL_ce7c0085105c4a248a532698019f7a0c",
       "IPY_MODEL_588c0c0ea39b4506b72f63380b5ba7ae"
      ],
      "layout": "IPY_MODEL_1770ca68a60249379db511cc77ef0b04"
     }
    },
    "0a1c1c70eca34de29af5d7925461b829": {
     "model_module": "@jupyter-widgets/controls",
     "model_module_version": "1.5.0",
     "model_name": "ProgressStyleModel",
     "state": {
      "_model_module": "@jupyter-widgets/controls",
      "_model_module_version": "1.5.0",
      "_model_name": "ProgressStyleModel",
      "_view_count": null,
      "_view_module": "@jupyter-widgets/base",
      "_view_module_version": "1.2.0",
      "_view_name": "StyleView",
      "bar_color": null,
      "description_width": "initial"
     }
    },
    "0dd80d505ce045daa470e3ce28ff43b3": {
     "model_module": "@jupyter-widgets/base",
     "model_module_version": "1.2.0",
     "model_name": "LayoutModel",
     "state": {
      "_model_module": "@jupyter-widgets/base",
      "_model_module_version": "1.2.0",
      "_model_name": "LayoutModel",
      "_view_count": null,
      "_view_module": "@jupyter-widgets/base",
      "_view_module_version": "1.2.0",
      "_view_name": "LayoutView",
      "align_content": null,
      "align_items": null,
      "align_self": null,
      "border": null,
      "bottom": null,
      "display": null,
      "flex": null,
      "flex_flow": null,
      "grid_area": null,
      "grid_auto_columns": null,
      "grid_auto_flow": null,
      "grid_auto_rows": null,
      "grid_column": null,
      "grid_gap": null,
      "grid_row": null,
      "grid_template_areas": null,
      "grid_template_columns": null,
      "grid_template_rows": null,
      "height": null,
      "justify_content": null,
      "justify_items": null,
      "left": null,
      "margin": null,
      "max_height": null,
      "max_width": null,
      "min_height": null,
      "min_width": null,
      "object_fit": null,
      "object_position": null,
      "order": null,
      "overflow": null,
      "overflow_x": null,
      "overflow_y": null,
      "padding": null,
      "right": null,
      "top": null,
      "visibility": null,
      "width": null
     }
    },
    "105ba59437ea4df69fcddb3c03b5f558": {
     "model_module": "@jupyter-widgets/base",
     "model_module_version": "1.2.0",
     "model_name": "LayoutModel",
     "state": {
      "_model_module": "@jupyter-widgets/base",
      "_model_module_version": "1.2.0",
      "_model_name": "LayoutModel",
      "_view_count": null,
      "_view_module": "@jupyter-widgets/base",
      "_view_module_version": "1.2.0",
      "_view_name": "LayoutView",
      "align_content": null,
      "align_items": null,
      "align_self": null,
      "border": null,
      "bottom": null,
      "display": null,
      "flex": null,
      "flex_flow": null,
      "grid_area": null,
      "grid_auto_columns": null,
      "grid_auto_flow": null,
      "grid_auto_rows": null,
      "grid_column": null,
      "grid_gap": null,
      "grid_row": null,
      "grid_template_areas": null,
      "grid_template_columns": null,
      "grid_template_rows": null,
      "height": null,
      "justify_content": null,
      "justify_items": null,
      "left": null,
      "margin": null,
      "max_height": null,
      "max_width": null,
      "min_height": null,
      "min_width": null,
      "object_fit": null,
      "object_position": null,
      "order": null,
      "overflow": null,
      "overflow_x": null,
      "overflow_y": null,
      "padding": null,
      "right": null,
      "top": null,
      "visibility": null,
      "width": null
     }
    },
    "1770ca68a60249379db511cc77ef0b04": {
     "model_module": "@jupyter-widgets/base",
     "model_module_version": "1.2.0",
     "model_name": "LayoutModel",
     "state": {
      "_model_module": "@jupyter-widgets/base",
      "_model_module_version": "1.2.0",
      "_model_name": "LayoutModel",
      "_view_count": null,
      "_view_module": "@jupyter-widgets/base",
      "_view_module_version": "1.2.0",
      "_view_name": "LayoutView",
      "align_content": null,
      "align_items": null,
      "align_self": null,
      "border": null,
      "bottom": null,
      "display": null,
      "flex": null,
      "flex_flow": null,
      "grid_area": null,
      "grid_auto_columns": null,
      "grid_auto_flow": null,
      "grid_auto_rows": null,
      "grid_column": null,
      "grid_gap": null,
      "grid_row": null,
      "grid_template_areas": null,
      "grid_template_columns": null,
      "grid_template_rows": null,
      "height": null,
      "justify_content": null,
      "justify_items": null,
      "left": null,
      "margin": null,
      "max_height": null,
      "max_width": null,
      "min_height": null,
      "min_width": null,
      "object_fit": null,
      "object_position": null,
      "order": null,
      "overflow": null,
      "overflow_x": null,
      "overflow_y": null,
      "padding": null,
      "right": null,
      "top": null,
      "visibility": null,
      "width": null
     }
    },
    "1b3d9b9f03244118a90953ddb6458b4d": {
     "model_module": "@jupyter-widgets/controls",
     "model_module_version": "1.5.0",
     "model_name": "DescriptionStyleModel",
     "state": {
      "_model_module": "@jupyter-widgets/controls",
      "_model_module_version": "1.5.0",
      "_model_name": "DescriptionStyleModel",
      "_view_count": null,
      "_view_module": "@jupyter-widgets/base",
      "_view_module_version": "1.2.0",
      "_view_name": "StyleView",
      "description_width": ""
     }
    },
    "1f187d3d83ab4601b7ba02fc5a47436f": {
     "model_module": "@jupyter-widgets/base",
     "model_module_version": "1.2.0",
     "model_name": "LayoutModel",
     "state": {
      "_model_module": "@jupyter-widgets/base",
      "_model_module_version": "1.2.0",
      "_model_name": "LayoutModel",
      "_view_count": null,
      "_view_module": "@jupyter-widgets/base",
      "_view_module_version": "1.2.0",
      "_view_name": "LayoutView",
      "align_content": null,
      "align_items": null,
      "align_self": null,
      "border": null,
      "bottom": null,
      "display": null,
      "flex": null,
      "flex_flow": null,
      "grid_area": null,
      "grid_auto_columns": null,
      "grid_auto_flow": null,
      "grid_auto_rows": null,
      "grid_column": null,
      "grid_gap": null,
      "grid_row": null,
      "grid_template_areas": null,
      "grid_template_columns": null,
      "grid_template_rows": null,
      "height": null,
      "justify_content": null,
      "justify_items": null,
      "left": null,
      "margin": null,
      "max_height": null,
      "max_width": null,
      "min_height": null,
      "min_width": null,
      "object_fit": null,
      "object_position": null,
      "order": null,
      "overflow": null,
      "overflow_x": null,
      "overflow_y": null,
      "padding": null,
      "right": null,
      "top": null,
      "visibility": null,
      "width": null
     }
    },
    "21ce187d8d37423da00662f5533c551b": {
     "model_module": "@jupyter-widgets/base",
     "model_module_version": "1.2.0",
     "model_name": "LayoutModel",
     "state": {
      "_model_module": "@jupyter-widgets/base",
      "_model_module_version": "1.2.0",
      "_model_name": "LayoutModel",
      "_view_count": null,
      "_view_module": "@jupyter-widgets/base",
      "_view_module_version": "1.2.0",
      "_view_name": "LayoutView",
      "align_content": null,
      "align_items": null,
      "align_self": null,
      "border": null,
      "bottom": null,
      "display": null,
      "flex": null,
      "flex_flow": null,
      "grid_area": null,
      "grid_auto_columns": null,
      "grid_auto_flow": null,
      "grid_auto_rows": null,
      "grid_column": null,
      "grid_gap": null,
      "grid_row": null,
      "grid_template_areas": null,
      "grid_template_columns": null,
      "grid_template_rows": null,
      "height": null,
      "justify_content": null,
      "justify_items": null,
      "left": null,
      "margin": null,
      "max_height": null,
      "max_width": null,
      "min_height": null,
      "min_width": null,
      "object_fit": null,
      "object_position": null,
      "order": null,
      "overflow": null,
      "overflow_x": null,
      "overflow_y": null,
      "padding": null,
      "right": null,
      "top": null,
      "visibility": null,
      "width": null
     }
    },
    "276709584b834bcf8dcc6abca652660e": {
     "model_module": "@jupyter-widgets/controls",
     "model_module_version": "1.5.0",
     "model_name": "ProgressStyleModel",
     "state": {
      "_model_module": "@jupyter-widgets/controls",
      "_model_module_version": "1.5.0",
      "_model_name": "ProgressStyleModel",
      "_view_count": null,
      "_view_module": "@jupyter-widgets/base",
      "_view_module_version": "1.2.0",
      "_view_name": "StyleView",
      "bar_color": null,
      "description_width": "initial"
     }
    },
    "35eb122aaea24d69ae8bf7d4acea5b7e": {
     "model_module": "@jupyter-widgets/controls",
     "model_module_version": "1.5.0",
     "model_name": "DescriptionStyleModel",
     "state": {
      "_model_module": "@jupyter-widgets/controls",
      "_model_module_version": "1.5.0",
      "_model_name": "DescriptionStyleModel",
      "_view_count": null,
      "_view_module": "@jupyter-widgets/base",
      "_view_module_version": "1.2.0",
      "_view_name": "StyleView",
      "description_width": ""
     }
    },
    "3de8b24f05df420382ff08b545da90e8": {
     "model_module": "@jupyter-widgets/controls",
     "model_module_version": "1.5.0",
     "model_name": "HBoxModel",
     "state": {
      "_dom_classes": [],
      "_model_module": "@jupyter-widgets/controls",
      "_model_module_version": "1.5.0",
      "_model_name": "HBoxModel",
      "_view_count": null,
      "_view_module": "@jupyter-widgets/controls",
      "_view_module_version": "1.5.0",
      "_view_name": "HBoxView",
      "box_style": "",
      "children": [
       "IPY_MODEL_893b5bbebdf545f09ac80043f6864cd8",
       "IPY_MODEL_db0c6fa48b7142bcaa2b0fac68f6f7fa"
      ],
      "layout": "IPY_MODEL_b0971dd49ab7476589bfbb0a5fae1adc"
     }
    },
    "3f111eb6ddb84ae4a05d442b16d30a02": {
     "model_module": "@jupyter-widgets/base",
     "model_module_version": "1.2.0",
     "model_name": "LayoutModel",
     "state": {
      "_model_module": "@jupyter-widgets/base",
      "_model_module_version": "1.2.0",
      "_model_name": "LayoutModel",
      "_view_count": null,
      "_view_module": "@jupyter-widgets/base",
      "_view_module_version": "1.2.0",
      "_view_name": "LayoutView",
      "align_content": null,
      "align_items": null,
      "align_self": null,
      "border": null,
      "bottom": null,
      "display": null,
      "flex": null,
      "flex_flow": null,
      "grid_area": null,
      "grid_auto_columns": null,
      "grid_auto_flow": null,
      "grid_auto_rows": null,
      "grid_column": null,
      "grid_gap": null,
      "grid_row": null,
      "grid_template_areas": null,
      "grid_template_columns": null,
      "grid_template_rows": null,
      "height": null,
      "justify_content": null,
      "justify_items": null,
      "left": null,
      "margin": null,
      "max_height": null,
      "max_width": null,
      "min_height": null,
      "min_width": null,
      "object_fit": null,
      "object_position": null,
      "order": null,
      "overflow": null,
      "overflow_x": null,
      "overflow_y": null,
      "padding": null,
      "right": null,
      "top": null,
      "visibility": null,
      "width": null
     }
    },
    "43917409863c40b785d40bb3a93ae7b2": {
     "model_module": "@jupyter-widgets/base",
     "model_module_version": "1.2.0",
     "model_name": "LayoutModel",
     "state": {
      "_model_module": "@jupyter-widgets/base",
      "_model_module_version": "1.2.0",
      "_model_name": "LayoutModel",
      "_view_count": null,
      "_view_module": "@jupyter-widgets/base",
      "_view_module_version": "1.2.0",
      "_view_name": "LayoutView",
      "align_content": null,
      "align_items": null,
      "align_self": null,
      "border": null,
      "bottom": null,
      "display": null,
      "flex": null,
      "flex_flow": null,
      "grid_area": null,
      "grid_auto_columns": null,
      "grid_auto_flow": null,
      "grid_auto_rows": null,
      "grid_column": null,
      "grid_gap": null,
      "grid_row": null,
      "grid_template_areas": null,
      "grid_template_columns": null,
      "grid_template_rows": null,
      "height": null,
      "justify_content": null,
      "justify_items": null,
      "left": null,
      "margin": null,
      "max_height": null,
      "max_width": null,
      "min_height": null,
      "min_width": null,
      "object_fit": null,
      "object_position": null,
      "order": null,
      "overflow": null,
      "overflow_x": null,
      "overflow_y": null,
      "padding": null,
      "right": null,
      "top": null,
      "visibility": null,
      "width": null
     }
    },
    "4b4b7cb97a1742fbbc81e88f9934a027": {
     "model_module": "@jupyter-widgets/base",
     "model_module_version": "1.2.0",
     "model_name": "LayoutModel",
     "state": {
      "_model_module": "@jupyter-widgets/base",
      "_model_module_version": "1.2.0",
      "_model_name": "LayoutModel",
      "_view_count": null,
      "_view_module": "@jupyter-widgets/base",
      "_view_module_version": "1.2.0",
      "_view_name": "LayoutView",
      "align_content": null,
      "align_items": null,
      "align_self": null,
      "border": null,
      "bottom": null,
      "display": null,
      "flex": null,
      "flex_flow": null,
      "grid_area": null,
      "grid_auto_columns": null,
      "grid_auto_flow": null,
      "grid_auto_rows": null,
      "grid_column": null,
      "grid_gap": null,
      "grid_row": null,
      "grid_template_areas": null,
      "grid_template_columns": null,
      "grid_template_rows": null,
      "height": null,
      "justify_content": null,
      "justify_items": null,
      "left": null,
      "margin": null,
      "max_height": null,
      "max_width": null,
      "min_height": null,
      "min_width": null,
      "object_fit": null,
      "object_position": null,
      "order": null,
      "overflow": null,
      "overflow_x": null,
      "overflow_y": null,
      "padding": null,
      "right": null,
      "top": null,
      "visibility": null,
      "width": null
     }
    },
    "4ec556e52cd644fab0c077924caf9068": {
     "model_module": "@jupyter-widgets/controls",
     "model_module_version": "1.5.0",
     "model_name": "FloatProgressModel",
     "state": {
      "_dom_classes": [],
      "_model_module": "@jupyter-widgets/controls",
      "_model_module_version": "1.5.0",
      "_model_name": "FloatProgressModel",
      "_view_count": null,
      "_view_module": "@jupyter-widgets/controls",
      "_view_module_version": "1.5.0",
      "_view_name": "ProgressView",
      "bar_style": "success",
      "description": "Downloading: 100%",
      "description_tooltip": null,
      "layout": "IPY_MODEL_034b8d9989ba49cb855892d68ec528ae",
      "max": 1206,
      "min": 0,
      "orientation": "horizontal",
      "style": "IPY_MODEL_d052184c6d8547468807436444813e64",
      "value": 1206
     }
    },
    "51453af9bf7347fb9f2afa76735a4958": {
     "model_module": "@jupyter-widgets/controls",
     "model_module_version": "1.5.0",
     "model_name": "HBoxModel",
     "state": {
      "_dom_classes": [],
      "_model_module": "@jupyter-widgets/controls",
      "_model_module_version": "1.5.0",
      "_model_name": "HBoxModel",
      "_view_count": null,
      "_view_module": "@jupyter-widgets/controls",
      "_view_module_version": "1.5.0",
      "_view_name": "HBoxView",
      "box_style": "",
      "children": [
       "IPY_MODEL_819c628b5c08411b93f129834d71d4eb",
       "IPY_MODEL_650461e71d9e41f59bf585b806c26631"
      ],
      "layout": "IPY_MODEL_105ba59437ea4df69fcddb3c03b5f558"
     }
    },
    "51f65178f363453f989a397dbf1eb8ea": {
     "model_module": "@jupyter-widgets/controls",
     "model_module_version": "1.5.0",
     "model_name": "FloatProgressModel",
     "state": {
      "_dom_classes": [],
      "_model_module": "@jupyter-widgets/controls",
      "_model_module_version": "1.5.0",
      "_model_name": "FloatProgressModel",
      "_view_count": null,
      "_view_module": "@jupyter-widgets/controls",
      "_view_module_version": "1.5.0",
      "_view_name": "ProgressView",
      "bar_style": "success",
      "description": "Downloading: 100%",
      "description_tooltip": null,
      "layout": "IPY_MODEL_521c8b67fae04347835474cbc35b6ba4",
      "max": 891695056,
      "min": 0,
      "orientation": "horizontal",
      "style": "IPY_MODEL_b446f1a183384519b87b9ea20016bd0b",
      "value": 891695056
     }
    },
    "521c8b67fae04347835474cbc35b6ba4": {
     "model_module": "@jupyter-widgets/base",
     "model_module_version": "1.2.0",
     "model_name": "LayoutModel",
     "state": {
      "_model_module": "@jupyter-widgets/base",
      "_model_module_version": "1.2.0",
      "_model_name": "LayoutModel",
      "_view_count": null,
      "_view_module": "@jupyter-widgets/base",
      "_view_module_version": "1.2.0",
      "_view_name": "LayoutView",
      "align_content": null,
      "align_items": null,
      "align_self": null,
      "border": null,
      "bottom": null,
      "display": null,
      "flex": null,
      "flex_flow": null,
      "grid_area": null,
      "grid_auto_columns": null,
      "grid_auto_flow": null,
      "grid_auto_rows": null,
      "grid_column": null,
      "grid_gap": null,
      "grid_row": null,
      "grid_template_areas": null,
      "grid_template_columns": null,
      "grid_template_rows": null,
      "height": null,
      "justify_content": null,
      "justify_items": null,
      "left": null,
      "margin": null,
      "max_height": null,
      "max_width": null,
      "min_height": null,
      "min_width": null,
      "object_fit": null,
      "object_position": null,
      "order": null,
      "overflow": null,
      "overflow_x": null,
      "overflow_y": null,
      "padding": null,
      "right": null,
      "top": null,
      "visibility": null,
      "width": null
     }
    },
    "588c0c0ea39b4506b72f63380b5ba7ae": {
     "model_module": "@jupyter-widgets/controls",
     "model_module_version": "1.5.0",
     "model_name": "HTMLModel",
     "state": {
      "_dom_classes": [],
      "_model_module": "@jupyter-widgets/controls",
      "_model_module_version": "1.5.0",
      "_model_name": "HTMLModel",
      "_view_count": null,
      "_view_module": "@jupyter-widgets/controls",
      "_view_module_version": "1.5.0",
      "_view_name": "HTMLView",
      "description": "",
      "description_tooltip": null,
      "layout": "IPY_MODEL_69c6290b3be942f986a000941354cef8",
      "placeholder": "​",
      "style": "IPY_MODEL_b323b337668a48fd9c1b8aa17d140f4f",
      "value": " 242M/242M [00:06&lt;00:00, 37.6MB/s]"
     }
    },
    "6038afa2736745d38be28155e191843d": {
     "model_module": "@jupyter-widgets/controls",
     "model_module_version": "1.5.0",
     "model_name": "DescriptionStyleModel",
     "state": {
      "_model_module": "@jupyter-widgets/controls",
      "_model_module_version": "1.5.0",
      "_model_name": "DescriptionStyleModel",
      "_view_count": null,
      "_view_module": "@jupyter-widgets/base",
      "_view_module_version": "1.2.0",
      "_view_name": "StyleView",
      "description_width": ""
     }
    },
    "650461e71d9e41f59bf585b806c26631": {
     "model_module": "@jupyter-widgets/controls",
     "model_module_version": "1.5.0",
     "model_name": "HTMLModel",
     "state": {
      "_dom_classes": [],
      "_model_module": "@jupyter-widgets/controls",
      "_model_module_version": "1.5.0",
      "_model_name": "HTMLModel",
      "_view_count": null,
      "_view_module": "@jupyter-widgets/controls",
      "_view_module_version": "1.5.0",
      "_view_name": "HTMLView",
      "description": "",
      "description_tooltip": null,
      "layout": "IPY_MODEL_feeb9e46c5ac47c09228499caf6dfbd9",
      "placeholder": "​",
      "style": "IPY_MODEL_6038afa2736745d38be28155e191843d",
      "value": " 1.21k/1.21k [00:00&lt;00:00, 6.08kB/s]"
     }
    },
    "69c6290b3be942f986a000941354cef8": {
     "model_module": "@jupyter-widgets/base",
     "model_module_version": "1.2.0",
     "model_name": "LayoutModel",
     "state": {
      "_model_module": "@jupyter-widgets/base",
      "_model_module_version": "1.2.0",
      "_model_name": "LayoutModel",
      "_view_count": null,
      "_view_module": "@jupyter-widgets/base",
      "_view_module_version": "1.2.0",
      "_view_name": "LayoutView",
      "align_content": null,
      "align_items": null,
      "align_self": null,
      "border": null,
      "bottom": null,
      "display": null,
      "flex": null,
      "flex_flow": null,
      "grid_area": null,
      "grid_auto_columns": null,
      "grid_auto_flow": null,
      "grid_auto_rows": null,
      "grid_column": null,
      "grid_gap": null,
      "grid_row": null,
      "grid_template_areas": null,
      "grid_template_columns": null,
      "grid_template_rows": null,
      "height": null,
      "justify_content": null,
      "justify_items": null,
      "left": null,
      "margin": null,
      "max_height": null,
      "max_width": null,
      "min_height": null,
      "min_width": null,
      "object_fit": null,
      "object_position": null,
      "order": null,
      "overflow": null,
      "overflow_x": null,
      "overflow_y": null,
      "padding": null,
      "right": null,
      "top": null,
      "visibility": null,
      "width": null
     }
    },
    "6e8976e622174831ad4bb2c732d552a8": {
     "model_module": "@jupyter-widgets/controls",
     "model_module_version": "1.5.0",
     "model_name": "HBoxModel",
     "state": {
      "_dom_classes": [],
      "_model_module": "@jupyter-widgets/controls",
      "_model_module_version": "1.5.0",
      "_model_name": "HBoxModel",
      "_view_count": null,
      "_view_module": "@jupyter-widgets/controls",
      "_view_module_version": "1.5.0",
      "_view_name": "HBoxView",
      "box_style": "",
      "children": [
       "IPY_MODEL_7d31355634e746aeb31482ad92d7a5c5",
       "IPY_MODEL_d553cf9dc5374ef88acae2631146a338"
      ],
      "layout": "IPY_MODEL_1f187d3d83ab4601b7ba02fc5a47436f"
     }
    },
    "7d31355634e746aeb31482ad92d7a5c5": {
     "model_module": "@jupyter-widgets/controls",
     "model_module_version": "1.5.0",
     "model_name": "FloatProgressModel",
     "state": {
      "_dom_classes": [],
      "_model_module": "@jupyter-widgets/controls",
      "_model_module_version": "1.5.0",
      "_model_name": "FloatProgressModel",
      "_view_count": null,
      "_view_module": "@jupyter-widgets/controls",
      "_view_module_version": "1.5.0",
      "_view_name": "ProgressView",
      "bar_style": "success",
      "description": "Downloading: 100%",
      "description_tooltip": null,
      "layout": "IPY_MODEL_860eda1b2f8e47c49d2db59418a5c2fc",
      "max": 791656,
      "min": 0,
      "orientation": "horizontal",
      "style": "IPY_MODEL_0a1c1c70eca34de29af5d7925461b829",
      "value": 791656
     }
    },
    "7dd774b27bf44fcf86bc903e675689f5": {
     "model_module": "@jupyter-widgets/controls",
     "model_module_version": "1.5.0",
     "model_name": "HTMLModel",
     "state": {
      "_dom_classes": [],
      "_model_module": "@jupyter-widgets/controls",
      "_model_module_version": "1.5.0",
      "_model_name": "HTMLModel",
      "_view_count": null,
      "_view_module": "@jupyter-widgets/controls",
      "_view_module_version": "1.5.0",
      "_view_name": "HTMLView",
      "description": "",
      "description_tooltip": null,
      "layout": "IPY_MODEL_43917409863c40b785d40bb3a93ae7b2",
      "placeholder": "​",
      "style": "IPY_MODEL_9e8759cc4c0342caa7631933ef964fa5",
      "value": " 892M/892M [00:28&lt;00:00, 31.3MB/s]"
     }
    },
    "819c628b5c08411b93f129834d71d4eb": {
     "model_module": "@jupyter-widgets/controls",
     "model_module_version": "1.5.0",
     "model_name": "FloatProgressModel",
     "state": {
      "_dom_classes": [],
      "_model_module": "@jupyter-widgets/controls",
      "_model_module_version": "1.5.0",
      "_model_name": "FloatProgressModel",
      "_view_count": null,
      "_view_module": "@jupyter-widgets/controls",
      "_view_module_version": "1.5.0",
      "_view_name": "ProgressView",
      "bar_style": "success",
      "description": "Downloading: 100%",
      "description_tooltip": null,
      "layout": "IPY_MODEL_0044bbf881084790b86dee02acf13921",
      "max": 1208,
      "min": 0,
      "orientation": "horizontal",
      "style": "IPY_MODEL_e7de27deacbc44abb0ccfbde58142027",
      "value": 1208
     }
    },
    "860eda1b2f8e47c49d2db59418a5c2fc": {
     "model_module": "@jupyter-widgets/base",
     "model_module_version": "1.2.0",
     "model_name": "LayoutModel",
     "state": {
      "_model_module": "@jupyter-widgets/base",
      "_model_module_version": "1.2.0",
      "_model_name": "LayoutModel",
      "_view_count": null,
      "_view_module": "@jupyter-widgets/base",
      "_view_module_version": "1.2.0",
      "_view_name": "LayoutView",
      "align_content": null,
      "align_items": null,
      "align_self": null,
      "border": null,
      "bottom": null,
      "display": null,
      "flex": null,
      "flex_flow": null,
      "grid_area": null,
      "grid_auto_columns": null,
      "grid_auto_flow": null,
      "grid_auto_rows": null,
      "grid_column": null,
      "grid_gap": null,
      "grid_row": null,
      "grid_template_areas": null,
      "grid_template_columns": null,
      "grid_template_rows": null,
      "height": null,
      "justify_content": null,
      "justify_items": null,
      "left": null,
      "margin": null,
      "max_height": null,
      "max_width": null,
      "min_height": null,
      "min_width": null,
      "object_fit": null,
      "object_position": null,
      "order": null,
      "overflow": null,
      "overflow_x": null,
      "overflow_y": null,
      "padding": null,
      "right": null,
      "top": null,
      "visibility": null,
      "width": null
     }
    },
    "88622981a3ae4f539f7e51c910f86010": {
     "model_module": "@jupyter-widgets/controls",
     "model_module_version": "1.5.0",
     "model_name": "DescriptionStyleModel",
     "state": {
      "_model_module": "@jupyter-widgets/controls",
      "_model_module_version": "1.5.0",
      "_model_name": "DescriptionStyleModel",
      "_view_count": null,
      "_view_module": "@jupyter-widgets/base",
      "_view_module_version": "1.2.0",
      "_view_name": "StyleView",
      "description_width": ""
     }
    },
    "893b5bbebdf545f09ac80043f6864cd8": {
     "model_module": "@jupyter-widgets/controls",
     "model_module_version": "1.5.0",
     "model_name": "FloatProgressModel",
     "state": {
      "_dom_classes": [],
      "_model_module": "@jupyter-widgets/controls",
      "_model_module_version": "1.5.0",
      "_model_name": "FloatProgressModel",
      "_view_count": null,
      "_view_module": "@jupyter-widgets/controls",
      "_view_module_version": "1.5.0",
      "_view_name": "ProgressView",
      "bar_style": "success",
      "description": "Downloading: 100%",
      "description_tooltip": null,
      "layout": "IPY_MODEL_b3a6a573959947609732d0488a147423",
      "max": 891691413,
      "min": 0,
      "orientation": "horizontal",
      "style": "IPY_MODEL_b135247438024aa3b6f74026933544b8",
      "value": 891691413
     }
    },
    "8aa7d37437af4a5ba41bc5739088fc5d": {
     "model_module": "@jupyter-widgets/base",
     "model_module_version": "1.2.0",
     "model_name": "LayoutModel",
     "state": {
      "_model_module": "@jupyter-widgets/base",
      "_model_module_version": "1.2.0",
      "_model_name": "LayoutModel",
      "_view_count": null,
      "_view_module": "@jupyter-widgets/base",
      "_view_module_version": "1.2.0",
      "_view_name": "LayoutView",
      "align_content": null,
      "align_items": null,
      "align_self": null,
      "border": null,
      "bottom": null,
      "display": null,
      "flex": null,
      "flex_flow": null,
      "grid_area": null,
      "grid_auto_columns": null,
      "grid_auto_flow": null,
      "grid_auto_rows": null,
      "grid_column": null,
      "grid_gap": null,
      "grid_row": null,
      "grid_template_areas": null,
      "grid_template_columns": null,
      "grid_template_rows": null,
      "height": null,
      "justify_content": null,
      "justify_items": null,
      "left": null,
      "margin": null,
      "max_height": null,
      "max_width": null,
      "min_height": null,
      "min_width": null,
      "object_fit": null,
      "object_position": null,
      "order": null,
      "overflow": null,
      "overflow_x": null,
      "overflow_y": null,
      "padding": null,
      "right": null,
      "top": null,
      "visibility": null,
      "width": null
     }
    },
    "8d5cd88def084ed9922385d77f346a45": {
     "model_module": "@jupyter-widgets/controls",
     "model_module_version": "1.5.0",
     "model_name": "HBoxModel",
     "state": {
      "_dom_classes": [],
      "_model_module": "@jupyter-widgets/controls",
      "_model_module_version": "1.5.0",
      "_model_name": "HBoxModel",
      "_view_count": null,
      "_view_module": "@jupyter-widgets/controls",
      "_view_module_version": "1.5.0",
      "_view_name": "HBoxView",
      "box_style": "",
      "children": [
       "IPY_MODEL_51f65178f363453f989a397dbf1eb8ea",
       "IPY_MODEL_7dd774b27bf44fcf86bc903e675689f5"
      ],
      "layout": "IPY_MODEL_4b4b7cb97a1742fbbc81e88f9934a027"
     }
    },
    "8f1b404555374c3f986e02fdc4bb0715": {
     "model_module": "@jupyter-widgets/base",
     "model_module_version": "1.2.0",
     "model_name": "LayoutModel",
     "state": {
      "_model_module": "@jupyter-widgets/base",
      "_model_module_version": "1.2.0",
      "_model_name": "LayoutModel",
      "_view_count": null,
      "_view_module": "@jupyter-widgets/base",
      "_view_module_version": "1.2.0",
      "_view_name": "LayoutView",
      "align_content": null,
      "align_items": null,
      "align_self": null,
      "border": null,
      "bottom": null,
      "display": null,
      "flex": null,
      "flex_flow": null,
      "grid_area": null,
      "grid_auto_columns": null,
      "grid_auto_flow": null,
      "grid_auto_rows": null,
      "grid_column": null,
      "grid_gap": null,
      "grid_row": null,
      "grid_template_areas": null,
      "grid_template_columns": null,
      "grid_template_rows": null,
      "height": null,
      "justify_content": null,
      "justify_items": null,
      "left": null,
      "margin": null,
      "max_height": null,
      "max_width": null,
      "min_height": null,
      "min_width": null,
      "object_fit": null,
      "object_position": null,
      "order": null,
      "overflow": null,
      "overflow_x": null,
      "overflow_y": null,
      "padding": null,
      "right": null,
      "top": null,
      "visibility": null,
      "width": null
     }
    },
    "9e8759cc4c0342caa7631933ef964fa5": {
     "model_module": "@jupyter-widgets/controls",
     "model_module_version": "1.5.0",
     "model_name": "DescriptionStyleModel",
     "state": {
      "_model_module": "@jupyter-widgets/controls",
      "_model_module_version": "1.5.0",
      "_model_name": "DescriptionStyleModel",
      "_view_count": null,
      "_view_module": "@jupyter-widgets/base",
      "_view_module_version": "1.2.0",
      "_view_name": "StyleView",
      "description_width": ""
     }
    },
    "9f6600bc828c47da8cec871e732fc132": {
     "model_module": "@jupyter-widgets/controls",
     "model_module_version": "1.5.0",
     "model_name": "HTMLModel",
     "state": {
      "_dom_classes": [],
      "_model_module": "@jupyter-widgets/controls",
      "_model_module_version": "1.5.0",
      "_model_name": "HTMLModel",
      "_view_count": null,
      "_view_module": "@jupyter-widgets/controls",
      "_view_module_version": "1.5.0",
      "_view_name": "HTMLView",
      "description": "",
      "description_tooltip": null,
      "layout": "IPY_MODEL_c4600434e0484921a8d722d242308f33",
      "placeholder": "​",
      "style": "IPY_MODEL_35eb122aaea24d69ae8bf7d4acea5b7e",
      "value": " 1.21k/1.21k [00:00&lt;00:00, 4.27kB/s]"
     }
    },
    "a173c8a292bc4cdca61b2a88d79e3461": {
     "model_module": "@jupyter-widgets/base",
     "model_module_version": "1.2.0",
     "model_name": "LayoutModel",
     "state": {
      "_model_module": "@jupyter-widgets/base",
      "_model_module_version": "1.2.0",
      "_model_name": "LayoutModel",
      "_view_count": null,
      "_view_module": "@jupyter-widgets/base",
      "_view_module_version": "1.2.0",
      "_view_name": "LayoutView",
      "align_content": null,
      "align_items": null,
      "align_self": null,
      "border": null,
      "bottom": null,
      "display": null,
      "flex": null,
      "flex_flow": null,
      "grid_area": null,
      "grid_auto_columns": null,
      "grid_auto_flow": null,
      "grid_auto_rows": null,
      "grid_column": null,
      "grid_gap": null,
      "grid_row": null,
      "grid_template_areas": null,
      "grid_template_columns": null,
      "grid_template_rows": null,
      "height": null,
      "justify_content": null,
      "justify_items": null,
      "left": null,
      "margin": null,
      "max_height": null,
      "max_width": null,
      "min_height": null,
      "min_width": null,
      "object_fit": null,
      "object_position": null,
      "order": null,
      "overflow": null,
      "overflow_x": null,
      "overflow_y": null,
      "padding": null,
      "right": null,
      "top": null,
      "visibility": null,
      "width": null
     }
    },
    "b0971dd49ab7476589bfbb0a5fae1adc": {
     "model_module": "@jupyter-widgets/base",
     "model_module_version": "1.2.0",
     "model_name": "LayoutModel",
     "state": {
      "_model_module": "@jupyter-widgets/base",
      "_model_module_version": "1.2.0",
      "_model_name": "LayoutModel",
      "_view_count": null,
      "_view_module": "@jupyter-widgets/base",
      "_view_module_version": "1.2.0",
      "_view_name": "LayoutView",
      "align_content": null,
      "align_items": null,
      "align_self": null,
      "border": null,
      "bottom": null,
      "display": null,
      "flex": null,
      "flex_flow": null,
      "grid_area": null,
      "grid_auto_columns": null,
      "grid_auto_flow": null,
      "grid_auto_rows": null,
      "grid_column": null,
      "grid_gap": null,
      "grid_row": null,
      "grid_template_areas": null,
      "grid_template_columns": null,
      "grid_template_rows": null,
      "height": null,
      "justify_content": null,
      "justify_items": null,
      "left": null,
      "margin": null,
      "max_height": null,
      "max_width": null,
      "min_height": null,
      "min_width": null,
      "object_fit": null,
      "object_position": null,
      "order": null,
      "overflow": null,
      "overflow_x": null,
      "overflow_y": null,
      "padding": null,
      "right": null,
      "top": null,
      "visibility": null,
      "width": null
     }
    },
    "b135247438024aa3b6f74026933544b8": {
     "model_module": "@jupyter-widgets/controls",
     "model_module_version": "1.5.0",
     "model_name": "ProgressStyleModel",
     "state": {
      "_model_module": "@jupyter-widgets/controls",
      "_model_module_version": "1.5.0",
      "_model_name": "ProgressStyleModel",
      "_view_count": null,
      "_view_module": "@jupyter-widgets/base",
      "_view_module_version": "1.2.0",
      "_view_name": "StyleView",
      "bar_color": null,
      "description_width": "initial"
     }
    },
    "b323b337668a48fd9c1b8aa17d140f4f": {
     "model_module": "@jupyter-widgets/controls",
     "model_module_version": "1.5.0",
     "model_name": "DescriptionStyleModel",
     "state": {
      "_model_module": "@jupyter-widgets/controls",
      "_model_module_version": "1.5.0",
      "_model_name": "DescriptionStyleModel",
      "_view_count": null,
      "_view_module": "@jupyter-widgets/base",
      "_view_module_version": "1.2.0",
      "_view_name": "StyleView",
      "description_width": ""
     }
    },
    "b3a6a573959947609732d0488a147423": {
     "model_module": "@jupyter-widgets/base",
     "model_module_version": "1.2.0",
     "model_name": "LayoutModel",
     "state": {
      "_model_module": "@jupyter-widgets/base",
      "_model_module_version": "1.2.0",
      "_model_name": "LayoutModel",
      "_view_count": null,
      "_view_module": "@jupyter-widgets/base",
      "_view_module_version": "1.2.0",
      "_view_name": "LayoutView",
      "align_content": null,
      "align_items": null,
      "align_self": null,
      "border": null,
      "bottom": null,
      "display": null,
      "flex": null,
      "flex_flow": null,
      "grid_area": null,
      "grid_auto_columns": null,
      "grid_auto_flow": null,
      "grid_auto_rows": null,
      "grid_column": null,
      "grid_gap": null,
      "grid_row": null,
      "grid_template_areas": null,
      "grid_template_columns": null,
      "grid_template_rows": null,
      "height": null,
      "justify_content": null,
      "justify_items": null,
      "left": null,
      "margin": null,
      "max_height": null,
      "max_width": null,
      "min_height": null,
      "min_width": null,
      "object_fit": null,
      "object_position": null,
      "order": null,
      "overflow": null,
      "overflow_x": null,
      "overflow_y": null,
      "padding": null,
      "right": null,
      "top": null,
      "visibility": null,
      "width": null
     }
    },
    "b446f1a183384519b87b9ea20016bd0b": {
     "model_module": "@jupyter-widgets/controls",
     "model_module_version": "1.5.0",
     "model_name": "ProgressStyleModel",
     "state": {
      "_model_module": "@jupyter-widgets/controls",
      "_model_module_version": "1.5.0",
      "_model_name": "ProgressStyleModel",
      "_view_count": null,
      "_view_module": "@jupyter-widgets/base",
      "_view_module_version": "1.2.0",
      "_view_name": "StyleView",
      "bar_color": null,
      "description_width": "initial"
     }
    },
    "c4600434e0484921a8d722d242308f33": {
     "model_module": "@jupyter-widgets/base",
     "model_module_version": "1.2.0",
     "model_name": "LayoutModel",
     "state": {
      "_model_module": "@jupyter-widgets/base",
      "_model_module_version": "1.2.0",
      "_model_name": "LayoutModel",
      "_view_count": null,
      "_view_module": "@jupyter-widgets/base",
      "_view_module_version": "1.2.0",
      "_view_name": "LayoutView",
      "align_content": null,
      "align_items": null,
      "align_self": null,
      "border": null,
      "bottom": null,
      "display": null,
      "flex": null,
      "flex_flow": null,
      "grid_area": null,
      "grid_auto_columns": null,
      "grid_auto_flow": null,
      "grid_auto_rows": null,
      "grid_column": null,
      "grid_gap": null,
      "grid_row": null,
      "grid_template_areas": null,
      "grid_template_columns": null,
      "grid_template_rows": null,
      "height": null,
      "justify_content": null,
      "justify_items": null,
      "left": null,
      "margin": null,
      "max_height": null,
      "max_width": null,
      "min_height": null,
      "min_width": null,
      "object_fit": null,
      "object_position": null,
      "order": null,
      "overflow": null,
      "overflow_x": null,
      "overflow_y": null,
      "padding": null,
      "right": null,
      "top": null,
      "visibility": null,
      "width": null
     }
    },
    "ce7c0085105c4a248a532698019f7a0c": {
     "model_module": "@jupyter-widgets/controls",
     "model_module_version": "1.5.0",
     "model_name": "FloatProgressModel",
     "state": {
      "_dom_classes": [],
      "_model_module": "@jupyter-widgets/controls",
      "_model_module_version": "1.5.0",
      "_model_name": "FloatProgressModel",
      "_view_count": null,
      "_view_module": "@jupyter-widgets/controls",
      "_view_module_version": "1.5.0",
      "_view_name": "ProgressView",
      "bar_style": "success",
      "description": "Downloading: 100%",
      "description_tooltip": null,
      "layout": "IPY_MODEL_0dd80d505ce045daa470e3ce28ff43b3",
      "max": 242068027,
      "min": 0,
      "orientation": "horizontal",
      "style": "IPY_MODEL_276709584b834bcf8dcc6abca652660e",
      "value": 242068027
     }
    },
    "d052184c6d8547468807436444813e64": {
     "model_module": "@jupyter-widgets/controls",
     "model_module_version": "1.5.0",
     "model_name": "ProgressStyleModel",
     "state": {
      "_model_module": "@jupyter-widgets/controls",
      "_model_module_version": "1.5.0",
      "_model_name": "ProgressStyleModel",
      "_view_count": null,
      "_view_module": "@jupyter-widgets/base",
      "_view_module_version": "1.2.0",
      "_view_name": "StyleView",
      "bar_color": null,
      "description_width": "initial"
     }
    },
    "d2d5a9d3f36e426c8cf6d74264c50b2d": {
     "model_module": "@jupyter-widgets/controls",
     "model_module_version": "1.5.0",
     "model_name": "HBoxModel",
     "state": {
      "_dom_classes": [],
      "_model_module": "@jupyter-widgets/controls",
      "_model_module_version": "1.5.0",
      "_model_name": "HBoxModel",
      "_view_count": null,
      "_view_module": "@jupyter-widgets/controls",
      "_view_module_version": "1.5.0",
      "_view_name": "HBoxView",
      "box_style": "",
      "children": [
       "IPY_MODEL_4ec556e52cd644fab0c077924caf9068",
       "IPY_MODEL_9f6600bc828c47da8cec871e732fc132"
      ],
      "layout": "IPY_MODEL_3f111eb6ddb84ae4a05d442b16d30a02"
     }
    },
    "d44f652d06e74262b1d91999daa70e06": {
     "model_module": "@jupyter-widgets/controls",
     "model_module_version": "1.5.0",
     "model_name": "HTMLModel",
     "state": {
      "_dom_classes": [],
      "_model_module": "@jupyter-widgets/controls",
      "_model_module_version": "1.5.0",
      "_model_name": "HTMLModel",
      "_view_count": null,
      "_view_module": "@jupyter-widgets/controls",
      "_view_module_version": "1.5.0",
      "_view_name": "HTMLView",
      "description": "",
      "description_tooltip": null,
      "layout": "IPY_MODEL_eee62782167c45a9926baeb46a3b4921",
      "placeholder": "​",
      "style": "IPY_MODEL_88622981a3ae4f539f7e51c910f86010",
      "value": " 1.21k/1.21k [00:00&lt;00:00, 3.01kB/s]"
     }
    },
    "d553cf9dc5374ef88acae2631146a338": {
     "model_module": "@jupyter-widgets/controls",
     "model_module_version": "1.5.0",
     "model_name": "HTMLModel",
     "state": {
      "_dom_classes": [],
      "_model_module": "@jupyter-widgets/controls",
      "_model_module_version": "1.5.0",
      "_model_name": "HTMLModel",
      "_view_count": null,
      "_view_module": "@jupyter-widgets/controls",
      "_view_module_version": "1.5.0",
      "_view_name": "HTMLView",
      "description": "",
      "description_tooltip": null,
      "layout": "IPY_MODEL_a173c8a292bc4cdca61b2a88d79e3461",
      "placeholder": "​",
      "style": "IPY_MODEL_1b3d9b9f03244118a90953ddb6458b4d",
      "value": " 792k/792k [01:04&lt;00:00, 12.2kB/s]"
     }
    },
    "db0c6fa48b7142bcaa2b0fac68f6f7fa": {
     "model_module": "@jupyter-widgets/controls",
     "model_module_version": "1.5.0",
     "model_name": "HTMLModel",
     "state": {
      "_dom_classes": [],
      "_model_module": "@jupyter-widgets/controls",
      "_model_module_version": "1.5.0",
      "_model_name": "HTMLModel",
      "_view_count": null,
      "_view_module": "@jupyter-widgets/controls",
      "_view_module_version": "1.5.0",
      "_view_name": "HTMLView",
      "description": "",
      "description_tooltip": null,
      "layout": "IPY_MODEL_8aa7d37437af4a5ba41bc5739088fc5d",
      "placeholder": "​",
      "style": "IPY_MODEL_ee0bc52b69fa4d19840e227c57f3cbfc",
      "value": " 892M/892M [00:22&lt;00:00, 39.2MB/s]"
     }
    },
    "e46dbca937b549aea7f517263776a3a8": {
     "model_module": "@jupyter-widgets/controls",
     "model_module_version": "1.5.0",
     "model_name": "FloatProgressModel",
     "state": {
      "_dom_classes": [],
      "_model_module": "@jupyter-widgets/controls",
      "_model_module_version": "1.5.0",
      "_model_name": "FloatProgressModel",
      "_view_count": null,
      "_view_module": "@jupyter-widgets/controls",
      "_view_module_version": "1.5.0",
      "_view_name": "ProgressView",
      "bar_style": "success",
      "description": "Downloading: 100%",
      "description_tooltip": null,
      "layout": "IPY_MODEL_21ce187d8d37423da00662f5533c551b",
      "max": 1208,
      "min": 0,
      "orientation": "horizontal",
      "style": "IPY_MODEL_f61ea3b6dcef42f486069dccb662a2e3",
      "value": 1208
     }
    },
    "e7de27deacbc44abb0ccfbde58142027": {
     "model_module": "@jupyter-widgets/controls",
     "model_module_version": "1.5.0",
     "model_name": "ProgressStyleModel",
     "state": {
      "_model_module": "@jupyter-widgets/controls",
      "_model_module_version": "1.5.0",
      "_model_name": "ProgressStyleModel",
      "_view_count": null,
      "_view_module": "@jupyter-widgets/base",
      "_view_module_version": "1.2.0",
      "_view_name": "StyleView",
      "bar_color": null,
      "description_width": "initial"
     }
    },
    "ee0bc52b69fa4d19840e227c57f3cbfc": {
     "model_module": "@jupyter-widgets/controls",
     "model_module_version": "1.5.0",
     "model_name": "DescriptionStyleModel",
     "state": {
      "_model_module": "@jupyter-widgets/controls",
      "_model_module_version": "1.5.0",
      "_model_name": "DescriptionStyleModel",
      "_view_count": null,
      "_view_module": "@jupyter-widgets/base",
      "_view_module_version": "1.2.0",
      "_view_name": "StyleView",
      "description_width": ""
     }
    },
    "eee62782167c45a9926baeb46a3b4921": {
     "model_module": "@jupyter-widgets/base",
     "model_module_version": "1.2.0",
     "model_name": "LayoutModel",
     "state": {
      "_model_module": "@jupyter-widgets/base",
      "_model_module_version": "1.2.0",
      "_model_name": "LayoutModel",
      "_view_count": null,
      "_view_module": "@jupyter-widgets/base",
      "_view_module_version": "1.2.0",
      "_view_name": "LayoutView",
      "align_content": null,
      "align_items": null,
      "align_self": null,
      "border": null,
      "bottom": null,
      "display": null,
      "flex": null,
      "flex_flow": null,
      "grid_area": null,
      "grid_auto_columns": null,
      "grid_auto_flow": null,
      "grid_auto_rows": null,
      "grid_column": null,
      "grid_gap": null,
      "grid_row": null,
      "grid_template_areas": null,
      "grid_template_columns": null,
      "grid_template_rows": null,
      "height": null,
      "justify_content": null,
      "justify_items": null,
      "left": null,
      "margin": null,
      "max_height": null,
      "max_width": null,
      "min_height": null,
      "min_width": null,
      "object_fit": null,
      "object_position": null,
      "order": null,
      "overflow": null,
      "overflow_x": null,
      "overflow_y": null,
      "padding": null,
      "right": null,
      "top": null,
      "visibility": null,
      "width": null
     }
    },
    "f3b812144d194c9cb1305189907bf62a": {
     "model_module": "@jupyter-widgets/controls",
     "model_module_version": "1.5.0",
     "model_name": "HBoxModel",
     "state": {
      "_dom_classes": [],
      "_model_module": "@jupyter-widgets/controls",
      "_model_module_version": "1.5.0",
      "_model_name": "HBoxModel",
      "_view_count": null,
      "_view_module": "@jupyter-widgets/controls",
      "_view_module_version": "1.5.0",
      "_view_name": "HBoxView",
      "box_style": "",
      "children": [
       "IPY_MODEL_e46dbca937b549aea7f517263776a3a8",
       "IPY_MODEL_d44f652d06e74262b1d91999daa70e06"
      ],
      "layout": "IPY_MODEL_8f1b404555374c3f986e02fdc4bb0715"
     }
    },
    "f61ea3b6dcef42f486069dccb662a2e3": {
     "model_module": "@jupyter-widgets/controls",
     "model_module_version": "1.5.0",
     "model_name": "ProgressStyleModel",
     "state": {
      "_model_module": "@jupyter-widgets/controls",
      "_model_module_version": "1.5.0",
      "_model_name": "ProgressStyleModel",
      "_view_count": null,
      "_view_module": "@jupyter-widgets/base",
      "_view_module_version": "1.2.0",
      "_view_name": "StyleView",
      "bar_color": null,
      "description_width": "initial"
     }
    },
    "feeb9e46c5ac47c09228499caf6dfbd9": {
     "model_module": "@jupyter-widgets/base",
     "model_module_version": "1.2.0",
     "model_name": "LayoutModel",
     "state": {
      "_model_module": "@jupyter-widgets/base",
      "_model_module_version": "1.2.0",
      "_model_name": "LayoutModel",
      "_view_count": null,
      "_view_module": "@jupyter-widgets/base",
      "_view_module_version": "1.2.0",
      "_view_name": "LayoutView",
      "align_content": null,
      "align_items": null,
      "align_self": null,
      "border": null,
      "bottom": null,
      "display": null,
      "flex": null,
      "flex_flow": null,
      "grid_area": null,
      "grid_auto_columns": null,
      "grid_auto_flow": null,
      "grid_auto_rows": null,
      "grid_column": null,
      "grid_gap": null,
      "grid_row": null,
      "grid_template_areas": null,
      "grid_template_columns": null,
      "grid_template_rows": null,
      "height": null,
      "justify_content": null,
      "justify_items": null,
      "left": null,
      "margin": null,
      "max_height": null,
      "max_width": null,
      "min_height": null,
      "min_width": null,
      "object_fit": null,
      "object_position": null,
      "order": null,
      "overflow": null,
      "overflow_x": null,
      "overflow_y": null,
      "padding": null,
      "right": null,
      "top": null,
      "visibility": null,
      "width": null
     }
    }
   }
  }
 },
 "nbformat": 4,
 "nbformat_minor": 1
}
